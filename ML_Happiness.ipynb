{
  "nbformat": 4,
  "nbformat_minor": 0,
  "metadata": {
    "colab": {
      "provenance": []
    },
    "kernelspec": {
      "name": "python3",
      "display_name": "Python 3"
    },
    "language_info": {
      "name": "python"
    }
  },
  "cells": [
    {
      "cell_type": "markdown",
      "source": [
        "# Etapa de extração e padronização das bases"
      ],
      "metadata": {
        "id": "kmaV22r75Aby"
      }
    },
    {
      "cell_type": "code",
      "execution_count": 1,
      "metadata": {
        "id": "N3B3pVM-4s7V"
      },
      "outputs": [],
      "source": [
        "import pandas as pd\n",
        "import numpy as np\n",
        "import seaborn as sns\n",
        "from sklearn.preprocessing import StandardScaler\n",
        "from sklearn.preprocessing import MinMaxScaler\n",
        "from sklearn import metrics\n",
        "from os import listdir\n",
        "from matplotlib import pyplot as plt\n",
        "from sklearn.linear_model import LinearRegression\n",
        "from sklearn.linear_model import ElasticNet"
      ]
    },
    {
      "cell_type": "code",
      "source": [
        "# Criação da função para compararmos as bases\n",
        "\n",
        "def comparar_colunas(dfi,dff):\n",
        "  for coluna_i in dfi.columns:\n",
        "    if coluna_i not in dff.columns:\n",
        "      print(f'#1: {coluna_i}')\n",
        "\n",
        "  for coluna_f in dff.columns:\n",
        "    if coluna_f not in dfi.columns:\n",
        "      print(f'#2: {coluna_f}')\n"
      ],
      "metadata": {
        "id": "gm9Ef4qc47qf"
      },
      "execution_count": 2,
      "outputs": []
    },
    {
      "cell_type": "code",
      "source": [
        "# Importação dos CSVs separados\n",
        "df1 = pd.read_csv('/content/drive/MyDrive/DataSets/Happiness/2015.csv')\n",
        "df2 = pd.read_csv('/content/drive/MyDrive/DataSets/Happiness/2016.csv')\n",
        "df3 = pd.read_csv('/content/drive/MyDrive/DataSets/Happiness/2017.csv')\n",
        "df4 = pd.read_csv('/content/drive/MyDrive/DataSets/Happiness/2018.csv')\n",
        "df5 = pd.read_csv('/content/drive/MyDrive/DataSets/Happiness/2019.csv')"
      ],
      "metadata": {
        "id": "8IozjvItgYTJ"
      },
      "execution_count": 3,
      "outputs": []
    },
    {
      "cell_type": "code",
      "source": [
        "#Adição de colunas de ano\n",
        "df1['Ano'] = 2015\n",
        "df2['Ano'] = 2016\n",
        "df3['Ano'] = 2017\n",
        "df4['Ano'] = 2018\n",
        "df5['Ano'] = 2019"
      ],
      "metadata": {
        "id": "l-u3TRvsU_Ct"
      },
      "execution_count": 4,
      "outputs": []
    },
    {
      "cell_type": "code",
      "source": [
        "# Comparar df1 e df2\n",
        "\n",
        "comparar_colunas(df1,df2)"
      ],
      "metadata": {
        "colab": {
          "base_uri": "https://localhost:8080/"
        },
        "id": "MJS8yNnhV0z6",
        "outputId": "d83f525d-f34b-46ae-9583-14643a13e950"
      },
      "execution_count": 5,
      "outputs": [
        {
          "output_type": "stream",
          "name": "stdout",
          "text": [
            "#1: Standard Error\n",
            "#2: Lower Confidence Interval\n",
            "#2: Upper Confidence Interval\n"
          ]
        }
      ]
    },
    {
      "cell_type": "code",
      "source": [
        "# Tornando a quantidade de ambas colunas iguais\n",
        "df1.drop('Standard Error', axis=1, inplace=True)\n",
        "df2.drop(['Lower Confidence Interval', 'Upper Confidence Interval'], axis=1, inplace=True)"
      ],
      "metadata": {
        "id": "uRppam44XIFu"
      },
      "execution_count": 6,
      "outputs": []
    },
    {
      "cell_type": "code",
      "source": [
        "# Juntando ambos\n",
        "df = pd.concat([df1,df2])"
      ],
      "metadata": {
        "id": "aZzS46HrVIVz"
      },
      "execution_count": 7,
      "outputs": []
    },
    {
      "cell_type": "code",
      "source": [
        "df3.columns"
      ],
      "metadata": {
        "colab": {
          "base_uri": "https://localhost:8080/"
        },
        "id": "fuGJAq5UYri-",
        "outputId": "325c9c53-eb99-4521-a979-6948717ee4aa"
      },
      "execution_count": 8,
      "outputs": [
        {
          "output_type": "execute_result",
          "data": {
            "text/plain": [
              "Index(['Country', 'Happiness.Rank', 'Happiness.Score', 'Whisker.high',\n",
              "       'Whisker.low', 'Economy..GDP.per.Capita.', 'Family',\n",
              "       'Health..Life.Expectancy.', 'Freedom', 'Generosity',\n",
              "       'Trust..Government.Corruption.', 'Dystopia.Residual', 'Ano'],\n",
              "      dtype='object')"
            ]
          },
          "metadata": {},
          "execution_count": 8
        }
      ]
    },
    {
      "cell_type": "code",
      "source": [
        "# Tratamento de nomes de coluna\n",
        "lista_col = [x.replace('.',' ') for x in df3.columns] # substituir os pontos por espaço\n",
        "lista_col = [x.replace('  ',' ') for x in lista_col] # onde tinha dois pontos, substituir por um espaço só\n",
        "nova_lista = [i if i[-1] != ' ' else i[:-1] for i in lista_col] # trimando os dados manualmente\n",
        "\n",
        "df3.columns = nova_lista # Setando as colunas do df3 para os nomes normalizados"
      ],
      "metadata": {
        "id": "6XE7rqDcgnAq"
      },
      "execution_count": 9,
      "outputs": []
    },
    {
      "cell_type": "code",
      "source": [
        "df3.columns"
      ],
      "metadata": {
        "colab": {
          "base_uri": "https://localhost:8080/"
        },
        "id": "7NCaGd8CMfEq",
        "outputId": "e14ec873-83c0-410f-9c50-c7cba023fe8d"
      },
      "execution_count": 10,
      "outputs": [
        {
          "output_type": "execute_result",
          "data": {
            "text/plain": [
              "Index(['Country', 'Happiness Rank', 'Happiness Score', 'Whisker high',\n",
              "       'Whisker low', 'Economy GDP per Capita', 'Family',\n",
              "       'Health Life Expectancy', 'Freedom', 'Generosity',\n",
              "       'Trust Government Corruption', 'Dystopia Residual', 'Ano'],\n",
              "      dtype='object')"
            ]
          },
          "metadata": {},
          "execution_count": 10
        }
      ]
    },
    {
      "cell_type": "code",
      "source": [
        "# Comparando df com df3\n",
        "comparar_colunas(df, df3)"
      ],
      "metadata": {
        "colab": {
          "base_uri": "https://localhost:8080/"
        },
        "id": "Xz6YNoTvQ5e-",
        "outputId": "227d514e-8357-4993-d61f-b620d4d502a7"
      },
      "execution_count": 11,
      "outputs": [
        {
          "output_type": "stream",
          "name": "stdout",
          "text": [
            "#1: Region\n",
            "#1: Economy (GDP per Capita)\n",
            "#1: Health (Life Expectancy)\n",
            "#1: Trust (Government Corruption)\n",
            "#2: Whisker high\n",
            "#2: Whisker low\n",
            "#2: Economy GDP per Capita\n",
            "#2: Health Life Expectancy\n",
            "#2: Trust Government Corruption\n"
          ]
        }
      ]
    },
    {
      "cell_type": "code",
      "source": [
        "# Normalizando as colunas e renomeando\n",
        "df3.rename({'Economy GDP per Capita':'Economy (GDP per Capita)', 'Health Life Expectancy':'Health (Life Expectancy)', 'Trust Government Corruption':'Trust (Government Corruption)'}, axis=1, inplace=True)"
      ],
      "metadata": {
        "id": "EjrcGQ1sgn4k"
      },
      "execution_count": 12,
      "outputs": []
    },
    {
      "cell_type": "code",
      "source": [
        "df3.columns"
      ],
      "metadata": {
        "colab": {
          "base_uri": "https://localhost:8080/"
        },
        "id": "d2xcY3blcFKI",
        "outputId": "5f460e12-d57d-4d93-de53-8b3695f1176b"
      },
      "execution_count": 13,
      "outputs": [
        {
          "output_type": "execute_result",
          "data": {
            "text/plain": [
              "Index(['Country', 'Happiness Rank', 'Happiness Score', 'Whisker high',\n",
              "       'Whisker low', 'Economy (GDP per Capita)', 'Family',\n",
              "       'Health (Life Expectancy)', 'Freedom', 'Generosity',\n",
              "       'Trust (Government Corruption)', 'Dystopia Residual', 'Ano'],\n",
              "      dtype='object')"
            ]
          },
          "metadata": {},
          "execution_count": 13
        }
      ]
    },
    {
      "cell_type": "code",
      "source": [
        "# Validação\n",
        "comparar_colunas(df,df3)"
      ],
      "metadata": {
        "colab": {
          "base_uri": "https://localhost:8080/"
        },
        "id": "irint2LHRV2n",
        "outputId": "2db8a5f3-f631-49a9-d0c3-d1a84273c146"
      },
      "execution_count": 14,
      "outputs": [
        {
          "output_type": "stream",
          "name": "stdout",
          "text": [
            "#1: Region\n",
            "#2: Whisker high\n",
            "#2: Whisker low\n"
          ]
        }
      ]
    },
    {
      "cell_type": "code",
      "source": [
        "# Deletar colunas a mais\n",
        "df.drop('Region', axis=1, inplace=True)\n",
        "df3.drop(['Whisker high', 'Whisker low'], axis=1, inplace=True)"
      ],
      "metadata": {
        "id": "_mtRoVCMRhom"
      },
      "execution_count": 15,
      "outputs": []
    },
    {
      "cell_type": "code",
      "source": [
        "# Juntando df com df3\n",
        "df = pd.concat([df,df3])"
      ],
      "metadata": {
        "id": "LnZdV3kaR-XH"
      },
      "execution_count": 16,
      "outputs": []
    },
    {
      "cell_type": "code",
      "source": [
        "# Comparando df com df4\n",
        "comparar_colunas(df,df4)"
      ],
      "metadata": {
        "colab": {
          "base_uri": "https://localhost:8080/"
        },
        "id": "wbTxrie5SGek",
        "outputId": "94d81893-75a0-4cb3-9e43-fdd1414d0714"
      },
      "execution_count": 17,
      "outputs": [
        {
          "output_type": "stream",
          "name": "stdout",
          "text": [
            "#1: Country\n",
            "#1: Happiness Rank\n",
            "#1: Happiness Score\n",
            "#1: Economy (GDP per Capita)\n",
            "#1: Family\n",
            "#1: Health (Life Expectancy)\n",
            "#1: Freedom\n",
            "#1: Trust (Government Corruption)\n",
            "#1: Dystopia Residual\n",
            "#2: Overall rank\n",
            "#2: Country or region\n",
            "#2: Score\n",
            "#2: GDP per capita\n",
            "#2: Social support\n",
            "#2: Healthy life expectancy\n",
            "#2: Freedom to make life choices\n",
            "#2: Perceptions of corruption\n"
          ]
        }
      ]
    },
    {
      "cell_type": "code",
      "source": [
        "# remover Happiness Rank do df, remover Dystopia Residual do df, remover Overall rank do df4\n",
        "# renomear no df4 --> Country or region : Country, Score : Happiness Score, GDP per capita : Economy (GDP per Capita), Social support : Family, Healthy life expectancy : Health (Life Expectancy), Freedom to make life choices : Freedom, Perceptions of corruption : Trust (Government Corruption)\n",
        "\n",
        "df.drop(['Happiness Rank', 'Dystopia Residual'], axis = 1, inplace=True)\n",
        "df4.drop('Overall rank', axis=1, inplace=True)\n",
        "\n",
        "df4.rename({'Country or region' : 'Country', 'Score' : 'Happiness Score', 'GDP per capita' : 'Economy (GDP per Capita)', 'Social support' : 'Family', 'Healthy life expectancy' : 'Health (Life Expectancy)', 'Freedom to make life choices' : 'Freedom', 'Perceptions of corruption' : 'Trust (Government Corruption)'}, axis=1, inplace=True)"
      ],
      "metadata": {
        "id": "talgw99RUusv"
      },
      "execution_count": 18,
      "outputs": []
    },
    {
      "cell_type": "code",
      "source": [
        "# Validação\n",
        "comparar_colunas(df, df4)"
      ],
      "metadata": {
        "id": "TDW1aMrIX6kV"
      },
      "execution_count": 19,
      "outputs": []
    },
    {
      "cell_type": "code",
      "source": [
        "# Juntar df com df4\n",
        "df = pd.concat([df, df4])"
      ],
      "metadata": {
        "id": "4FhKFn1fYHpV"
      },
      "execution_count": 20,
      "outputs": []
    },
    {
      "cell_type": "code",
      "source": [
        "# Comparar colunas\n",
        "comparar_colunas(df,df5)"
      ],
      "metadata": {
        "colab": {
          "base_uri": "https://localhost:8080/"
        },
        "id": "Ntpreci0YL-B",
        "outputId": "ebc48552-1873-4c70-cee6-f596bd55e1ac"
      },
      "execution_count": 21,
      "outputs": [
        {
          "output_type": "stream",
          "name": "stdout",
          "text": [
            "#1: Country\n",
            "#1: Happiness Score\n",
            "#1: Economy (GDP per Capita)\n",
            "#1: Family\n",
            "#1: Health (Life Expectancy)\n",
            "#1: Freedom\n",
            "#1: Trust (Government Corruption)\n",
            "#2: Overall rank\n",
            "#2: Country or region\n",
            "#2: Score\n",
            "#2: GDP per capita\n",
            "#2: Social support\n",
            "#2: Healthy life expectancy\n",
            "#2: Freedom to make life choices\n",
            "#2: Perceptions of corruption\n"
          ]
        }
      ]
    },
    {
      "cell_type": "code",
      "source": [
        "# A estrutura colunar do df5 é igual ao df4, então basta aplicarmos os métodos já feitos acima\n",
        "df5.drop('Overall rank', axis=1, inplace=True)\n",
        "\n",
        "df5.rename({'Country or region' : 'Country', 'Score' : 'Happiness Score', 'GDP per capita' : 'Economy (GDP per Capita)', 'Social support' : 'Family', 'Healthy life expectancy' : 'Health (Life Expectancy)', 'Freedom to make life choices' : 'Freedom', 'Perceptions of corruption' : 'Trust (Government Corruption)'}, axis=1, inplace=True)"
      ],
      "metadata": {
        "id": "9R0pA9YUZHyb"
      },
      "execution_count": 22,
      "outputs": []
    },
    {
      "cell_type": "code",
      "source": [
        "# Validação\n",
        "comparar_colunas(df, df5)"
      ],
      "metadata": {
        "id": "CijpqH2BZK5l"
      },
      "execution_count": 23,
      "outputs": []
    },
    {
      "cell_type": "code",
      "source": [
        "# Juntar df e a finalização da etapa de concatenação de bases\n",
        "df = pd.concat([df, df5])"
      ],
      "metadata": {
        "id": "m8Q-aNULZXT1"
      },
      "execution_count": 24,
      "outputs": []
    },
    {
      "cell_type": "code",
      "source": [
        "# Criando CSV da base tratada\n",
        "df.to_csv('/content/drive/MyDrive/DataSets/Happiness/DataMerged.csv', index=False)"
      ],
      "metadata": {
        "id": "XutdtTC9Z8xg"
      },
      "execution_count": 25,
      "outputs": []
    },
    {
      "cell_type": "markdown",
      "source": [
        "# Análise exploratória de dados"
      ],
      "metadata": {
        "id": "97ezJzC-bJSC"
      }
    },
    {
      "cell_type": "markdown",
      "source": [
        "## Estrutura do dataset"
      ],
      "metadata": {
        "id": "9S6zxRpwcQGf"
      }
    },
    {
      "cell_type": "code",
      "source": [
        "# Ler CSV tratado\n",
        "df = pd.read_csv('/content/drive/MyDrive/DataSets/Happiness/DataMerged.csv')"
      ],
      "metadata": {
        "id": "-8EwIxbLbUC8"
      },
      "execution_count": 26,
      "outputs": []
    },
    {
      "cell_type": "code",
      "source": [
        "df.head(5)"
      ],
      "metadata": {
        "id": "vRX8nPC0bqpB",
        "colab": {
          "base_uri": "https://localhost:8080/",
          "height": 0
        },
        "outputId": "f21b5197-113b-44da-a2b4-961ed08c6118"
      },
      "execution_count": 27,
      "outputs": [
        {
          "output_type": "execute_result",
          "data": {
            "text/plain": [
              "       Country  Happiness Score  Economy (GDP per Capita)   Family  \\\n",
              "0  Switzerland            7.587                   1.39651  1.34951   \n",
              "1      Iceland            7.561                   1.30232  1.40223   \n",
              "2      Denmark            7.527                   1.32548  1.36058   \n",
              "3       Norway            7.522                   1.45900  1.33095   \n",
              "4       Canada            7.427                   1.32629  1.32261   \n",
              "\n",
              "   Health (Life Expectancy)  Freedom  Trust (Government Corruption)  \\\n",
              "0                   0.94143  0.66557                        0.41978   \n",
              "1                   0.94784  0.62877                        0.14145   \n",
              "2                   0.87464  0.64938                        0.48357   \n",
              "3                   0.88521  0.66973                        0.36503   \n",
              "4                   0.90563  0.63297                        0.32957   \n",
              "\n",
              "   Generosity   Ano  \n",
              "0     0.29678  2015  \n",
              "1     0.43630  2015  \n",
              "2     0.34139  2015  \n",
              "3     0.34699  2015  \n",
              "4     0.45811  2015  "
            ],
            "text/html": [
              "\n",
              "  <div id=\"df-be696a54-2030-4f04-a0e7-e0d138e37309\" class=\"colab-df-container\">\n",
              "    <div>\n",
              "<style scoped>\n",
              "    .dataframe tbody tr th:only-of-type {\n",
              "        vertical-align: middle;\n",
              "    }\n",
              "\n",
              "    .dataframe tbody tr th {\n",
              "        vertical-align: top;\n",
              "    }\n",
              "\n",
              "    .dataframe thead th {\n",
              "        text-align: right;\n",
              "    }\n",
              "</style>\n",
              "<table border=\"1\" class=\"dataframe\">\n",
              "  <thead>\n",
              "    <tr style=\"text-align: right;\">\n",
              "      <th></th>\n",
              "      <th>Country</th>\n",
              "      <th>Happiness Score</th>\n",
              "      <th>Economy (GDP per Capita)</th>\n",
              "      <th>Family</th>\n",
              "      <th>Health (Life Expectancy)</th>\n",
              "      <th>Freedom</th>\n",
              "      <th>Trust (Government Corruption)</th>\n",
              "      <th>Generosity</th>\n",
              "      <th>Ano</th>\n",
              "    </tr>\n",
              "  </thead>\n",
              "  <tbody>\n",
              "    <tr>\n",
              "      <th>0</th>\n",
              "      <td>Switzerland</td>\n",
              "      <td>7.587</td>\n",
              "      <td>1.39651</td>\n",
              "      <td>1.34951</td>\n",
              "      <td>0.94143</td>\n",
              "      <td>0.66557</td>\n",
              "      <td>0.41978</td>\n",
              "      <td>0.29678</td>\n",
              "      <td>2015</td>\n",
              "    </tr>\n",
              "    <tr>\n",
              "      <th>1</th>\n",
              "      <td>Iceland</td>\n",
              "      <td>7.561</td>\n",
              "      <td>1.30232</td>\n",
              "      <td>1.40223</td>\n",
              "      <td>0.94784</td>\n",
              "      <td>0.62877</td>\n",
              "      <td>0.14145</td>\n",
              "      <td>0.43630</td>\n",
              "      <td>2015</td>\n",
              "    </tr>\n",
              "    <tr>\n",
              "      <th>2</th>\n",
              "      <td>Denmark</td>\n",
              "      <td>7.527</td>\n",
              "      <td>1.32548</td>\n",
              "      <td>1.36058</td>\n",
              "      <td>0.87464</td>\n",
              "      <td>0.64938</td>\n",
              "      <td>0.48357</td>\n",
              "      <td>0.34139</td>\n",
              "      <td>2015</td>\n",
              "    </tr>\n",
              "    <tr>\n",
              "      <th>3</th>\n",
              "      <td>Norway</td>\n",
              "      <td>7.522</td>\n",
              "      <td>1.45900</td>\n",
              "      <td>1.33095</td>\n",
              "      <td>0.88521</td>\n",
              "      <td>0.66973</td>\n",
              "      <td>0.36503</td>\n",
              "      <td>0.34699</td>\n",
              "      <td>2015</td>\n",
              "    </tr>\n",
              "    <tr>\n",
              "      <th>4</th>\n",
              "      <td>Canada</td>\n",
              "      <td>7.427</td>\n",
              "      <td>1.32629</td>\n",
              "      <td>1.32261</td>\n",
              "      <td>0.90563</td>\n",
              "      <td>0.63297</td>\n",
              "      <td>0.32957</td>\n",
              "      <td>0.45811</td>\n",
              "      <td>2015</td>\n",
              "    </tr>\n",
              "  </tbody>\n",
              "</table>\n",
              "</div>\n",
              "    <div class=\"colab-df-buttons\">\n",
              "\n",
              "  <div class=\"colab-df-container\">\n",
              "    <button class=\"colab-df-convert\" onclick=\"convertToInteractive('df-be696a54-2030-4f04-a0e7-e0d138e37309')\"\n",
              "            title=\"Convert this dataframe to an interactive table.\"\n",
              "            style=\"display:none;\">\n",
              "\n",
              "  <svg xmlns=\"http://www.w3.org/2000/svg\" height=\"24px\" viewBox=\"0 -960 960 960\">\n",
              "    <path d=\"M120-120v-720h720v720H120Zm60-500h600v-160H180v160Zm220 220h160v-160H400v160Zm0 220h160v-160H400v160ZM180-400h160v-160H180v160Zm440 0h160v-160H620v160ZM180-180h160v-160H180v160Zm440 0h160v-160H620v160Z\"/>\n",
              "  </svg>\n",
              "    </button>\n",
              "\n",
              "  <style>\n",
              "    .colab-df-container {\n",
              "      display:flex;\n",
              "      gap: 12px;\n",
              "    }\n",
              "\n",
              "    .colab-df-convert {\n",
              "      background-color: #E8F0FE;\n",
              "      border: none;\n",
              "      border-radius: 50%;\n",
              "      cursor: pointer;\n",
              "      display: none;\n",
              "      fill: #1967D2;\n",
              "      height: 32px;\n",
              "      padding: 0 0 0 0;\n",
              "      width: 32px;\n",
              "    }\n",
              "\n",
              "    .colab-df-convert:hover {\n",
              "      background-color: #E2EBFA;\n",
              "      box-shadow: 0px 1px 2px rgba(60, 64, 67, 0.3), 0px 1px 3px 1px rgba(60, 64, 67, 0.15);\n",
              "      fill: #174EA6;\n",
              "    }\n",
              "\n",
              "    .colab-df-buttons div {\n",
              "      margin-bottom: 4px;\n",
              "    }\n",
              "\n",
              "    [theme=dark] .colab-df-convert {\n",
              "      background-color: #3B4455;\n",
              "      fill: #D2E3FC;\n",
              "    }\n",
              "\n",
              "    [theme=dark] .colab-df-convert:hover {\n",
              "      background-color: #434B5C;\n",
              "      box-shadow: 0px 1px 3px 1px rgba(0, 0, 0, 0.15);\n",
              "      filter: drop-shadow(0px 1px 2px rgba(0, 0, 0, 0.3));\n",
              "      fill: #FFFFFF;\n",
              "    }\n",
              "  </style>\n",
              "\n",
              "    <script>\n",
              "      const buttonEl =\n",
              "        document.querySelector('#df-be696a54-2030-4f04-a0e7-e0d138e37309 button.colab-df-convert');\n",
              "      buttonEl.style.display =\n",
              "        google.colab.kernel.accessAllowed ? 'block' : 'none';\n",
              "\n",
              "      async function convertToInteractive(key) {\n",
              "        const element = document.querySelector('#df-be696a54-2030-4f04-a0e7-e0d138e37309');\n",
              "        const dataTable =\n",
              "          await google.colab.kernel.invokeFunction('convertToInteractive',\n",
              "                                                    [key], {});\n",
              "        if (!dataTable) return;\n",
              "\n",
              "        const docLinkHtml = 'Like what you see? Visit the ' +\n",
              "          '<a target=\"_blank\" href=https://colab.research.google.com/notebooks/data_table.ipynb>data table notebook</a>'\n",
              "          + ' to learn more about interactive tables.';\n",
              "        element.innerHTML = '';\n",
              "        dataTable['output_type'] = 'display_data';\n",
              "        await google.colab.output.renderOutput(dataTable, element);\n",
              "        const docLink = document.createElement('div');\n",
              "        docLink.innerHTML = docLinkHtml;\n",
              "        element.appendChild(docLink);\n",
              "      }\n",
              "    </script>\n",
              "  </div>\n",
              "\n",
              "\n",
              "<div id=\"df-97e2913b-b531-4822-a06c-9f790afb9bad\">\n",
              "  <button class=\"colab-df-quickchart\" onclick=\"quickchart('df-97e2913b-b531-4822-a06c-9f790afb9bad')\"\n",
              "            title=\"Suggest charts\"\n",
              "            style=\"display:none;\">\n",
              "\n",
              "<svg xmlns=\"http://www.w3.org/2000/svg\" height=\"24px\"viewBox=\"0 0 24 24\"\n",
              "     width=\"24px\">\n",
              "    <g>\n",
              "        <path d=\"M19 3H5c-1.1 0-2 .9-2 2v14c0 1.1.9 2 2 2h14c1.1 0 2-.9 2-2V5c0-1.1-.9-2-2-2zM9 17H7v-7h2v7zm4 0h-2V7h2v10zm4 0h-2v-4h2v4z\"/>\n",
              "    </g>\n",
              "</svg>\n",
              "  </button>\n",
              "\n",
              "<style>\n",
              "  .colab-df-quickchart {\n",
              "      --bg-color: #E8F0FE;\n",
              "      --fill-color: #1967D2;\n",
              "      --hover-bg-color: #E2EBFA;\n",
              "      --hover-fill-color: #174EA6;\n",
              "      --disabled-fill-color: #AAA;\n",
              "      --disabled-bg-color: #DDD;\n",
              "  }\n",
              "\n",
              "  [theme=dark] .colab-df-quickchart {\n",
              "      --bg-color: #3B4455;\n",
              "      --fill-color: #D2E3FC;\n",
              "      --hover-bg-color: #434B5C;\n",
              "      --hover-fill-color: #FFFFFF;\n",
              "      --disabled-bg-color: #3B4455;\n",
              "      --disabled-fill-color: #666;\n",
              "  }\n",
              "\n",
              "  .colab-df-quickchart {\n",
              "    background-color: var(--bg-color);\n",
              "    border: none;\n",
              "    border-radius: 50%;\n",
              "    cursor: pointer;\n",
              "    display: none;\n",
              "    fill: var(--fill-color);\n",
              "    height: 32px;\n",
              "    padding: 0;\n",
              "    width: 32px;\n",
              "  }\n",
              "\n",
              "  .colab-df-quickchart:hover {\n",
              "    background-color: var(--hover-bg-color);\n",
              "    box-shadow: 0 1px 2px rgba(60, 64, 67, 0.3), 0 1px 3px 1px rgba(60, 64, 67, 0.15);\n",
              "    fill: var(--button-hover-fill-color);\n",
              "  }\n",
              "\n",
              "  .colab-df-quickchart-complete:disabled,\n",
              "  .colab-df-quickchart-complete:disabled:hover {\n",
              "    background-color: var(--disabled-bg-color);\n",
              "    fill: var(--disabled-fill-color);\n",
              "    box-shadow: none;\n",
              "  }\n",
              "\n",
              "  .colab-df-spinner {\n",
              "    border: 2px solid var(--fill-color);\n",
              "    border-color: transparent;\n",
              "    border-bottom-color: var(--fill-color);\n",
              "    animation:\n",
              "      spin 1s steps(1) infinite;\n",
              "  }\n",
              "\n",
              "  @keyframes spin {\n",
              "    0% {\n",
              "      border-color: transparent;\n",
              "      border-bottom-color: var(--fill-color);\n",
              "      border-left-color: var(--fill-color);\n",
              "    }\n",
              "    20% {\n",
              "      border-color: transparent;\n",
              "      border-left-color: var(--fill-color);\n",
              "      border-top-color: var(--fill-color);\n",
              "    }\n",
              "    30% {\n",
              "      border-color: transparent;\n",
              "      border-left-color: var(--fill-color);\n",
              "      border-top-color: var(--fill-color);\n",
              "      border-right-color: var(--fill-color);\n",
              "    }\n",
              "    40% {\n",
              "      border-color: transparent;\n",
              "      border-right-color: var(--fill-color);\n",
              "      border-top-color: var(--fill-color);\n",
              "    }\n",
              "    60% {\n",
              "      border-color: transparent;\n",
              "      border-right-color: var(--fill-color);\n",
              "    }\n",
              "    80% {\n",
              "      border-color: transparent;\n",
              "      border-right-color: var(--fill-color);\n",
              "      border-bottom-color: var(--fill-color);\n",
              "    }\n",
              "    90% {\n",
              "      border-color: transparent;\n",
              "      border-bottom-color: var(--fill-color);\n",
              "    }\n",
              "  }\n",
              "</style>\n",
              "\n",
              "  <script>\n",
              "    async function quickchart(key) {\n",
              "      const quickchartButtonEl =\n",
              "        document.querySelector('#' + key + ' button');\n",
              "      quickchartButtonEl.disabled = true;  // To prevent multiple clicks.\n",
              "      quickchartButtonEl.classList.add('colab-df-spinner');\n",
              "      try {\n",
              "        const charts = await google.colab.kernel.invokeFunction(\n",
              "            'suggestCharts', [key], {});\n",
              "      } catch (error) {\n",
              "        console.error('Error during call to suggestCharts:', error);\n",
              "      }\n",
              "      quickchartButtonEl.classList.remove('colab-df-spinner');\n",
              "      quickchartButtonEl.classList.add('colab-df-quickchart-complete');\n",
              "    }\n",
              "    (() => {\n",
              "      let quickchartButtonEl =\n",
              "        document.querySelector('#df-97e2913b-b531-4822-a06c-9f790afb9bad button');\n",
              "      quickchartButtonEl.style.display =\n",
              "        google.colab.kernel.accessAllowed ? 'block' : 'none';\n",
              "    })();\n",
              "  </script>\n",
              "</div>\n",
              "\n",
              "    </div>\n",
              "  </div>\n"
            ],
            "application/vnd.google.colaboratory.intrinsic+json": {
              "type": "dataframe",
              "variable_name": "df",
              "summary": "{\n  \"name\": \"df\",\n  \"rows\": 782,\n  \"fields\": [\n    {\n      \"column\": \"Country\",\n      \"properties\": {\n        \"dtype\": \"category\",\n        \"num_unique_values\": 170,\n        \"samples\": [\n          \"Comoros\",\n          \"Czech Republic\",\n          \"Congo (Kinshasa)\"\n        ],\n        \"semantic_type\": \"\",\n        \"description\": \"\"\n      }\n    },\n    {\n      \"column\": \"Happiness Score\",\n      \"properties\": {\n        \"dtype\": \"number\",\n        \"std\": 1.1274564601550123,\n        \"min\": 2.69300007820129,\n        \"max\": 7.769,\n        \"num_unique_values\": 716,\n        \"samples\": [\n          4.512,\n          6.35699987411499,\n          6.269\n        ],\n        \"semantic_type\": \"\",\n        \"description\": \"\"\n      }\n    },\n    {\n      \"column\": \"Economy (GDP per Capita)\",\n      \"properties\": {\n        \"dtype\": \"number\",\n        \"std\": 0.4073401312898192,\n        \"min\": 0.0,\n        \"max\": 2.096,\n        \"num_unique_values\": 742,\n        \"samples\": [\n          0.35997,\n          1.09686,\n          1.18529546260834\n        ],\n        \"semantic_type\": \"\",\n        \"description\": \"\"\n      }\n    },\n    {\n      \"column\": \"Family\",\n      \"properties\": {\n        \"dtype\": \"number\",\n        \"std\": 0.3295483193342901,\n        \"min\": 0.0,\n        \"max\": 1.644,\n        \"num_unique_values\": 732,\n        \"samples\": [\n          0.541,\n          1.26504,\n          0.18519\n        ],\n        \"semantic_type\": \"\",\n        \"description\": \"\"\n      }\n    },\n    {\n      \"column\": \"Health (Life Expectancy)\",\n      \"properties\": {\n        \"dtype\": \"number\",\n        \"std\": 0.2483086403797618,\n        \"min\": 0.0,\n        \"max\": 1.141,\n        \"num_unique_values\": 705,\n        \"samples\": [\n          0.817,\n          0.72521,\n          0.57407\n        ],\n        \"semantic_type\": \"\",\n        \"description\": \"\"\n      }\n    },\n    {\n      \"column\": \"Freedom\",\n      \"properties\": {\n        \"dtype\": \"number\",\n        \"std\": 0.15288042062896512,\n        \"min\": 0.0,\n        \"max\": 0.724,\n        \"num_unique_values\": 697,\n        \"samples\": [\n          0.57941,\n          0.531,\n          0.288515985012054\n        ],\n        \"semantic_type\": \"\",\n        \"description\": \"\"\n      }\n    },\n    {\n      \"column\": \"Trust (Government Corruption)\",\n      \"properties\": {\n        \"dtype\": \"number\",\n        \"std\": 0.10581644755675648,\n        \"min\": 0.0,\n        \"max\": 0.55191,\n        \"num_unique_values\": 635,\n        \"samples\": [\n          0.037,\n          0.07047,\n          0.0760467872023582\n        ],\n        \"semantic_type\": \"\",\n        \"description\": \"\"\n      }\n    },\n    {\n      \"column\": \"Generosity\",\n      \"properties\": {\n        \"dtype\": \"number\",\n        \"std\": 0.12232074871938417,\n        \"min\": 0.0,\n        \"max\": 0.838075160980225,\n        \"num_unique_values\": 664,\n        \"samples\": [\n          0.25458,\n          0.22686,\n          0.333\n        ],\n        \"semantic_type\": \"\",\n        \"description\": \"\"\n      }\n    },\n    {\n      \"column\": \"Ano\",\n      \"properties\": {\n        \"dtype\": \"number\",\n        \"std\": 1,\n        \"min\": 2015,\n        \"max\": 2019,\n        \"num_unique_values\": 5,\n        \"samples\": [\n          2016,\n          2019,\n          2017\n        ],\n        \"semantic_type\": \"\",\n        \"description\": \"\"\n      }\n    }\n  ]\n}"
            }
          },
          "metadata": {},
          "execution_count": 27
        }
      ]
    },
    {
      "cell_type": "code",
      "source": [
        "# Verificando características do conjunto de dados\n",
        "df.shape"
      ],
      "metadata": {
        "colab": {
          "base_uri": "https://localhost:8080/"
        },
        "id": "NPv4MlvQcLYt",
        "outputId": "3cdb81cf-73b6-4ed2-aee5-1ed17271b1c5"
      },
      "execution_count": 28,
      "outputs": [
        {
          "output_type": "execute_result",
          "data": {
            "text/plain": [
              "(782, 9)"
            ]
          },
          "metadata": {},
          "execution_count": 28
        }
      ]
    },
    {
      "cell_type": "code",
      "source": [
        "# Verificando tipo de dados\n",
        "df.dtypes"
      ],
      "metadata": {
        "colab": {
          "base_uri": "https://localhost:8080/"
        },
        "id": "TF-e4o_NcYeZ",
        "outputId": "25dabe8c-d7dc-4b24-fd62-b90b2cb93f6b"
      },
      "execution_count": 29,
      "outputs": [
        {
          "output_type": "execute_result",
          "data": {
            "text/plain": [
              "Country                           object\n",
              "Happiness Score                  float64\n",
              "Economy (GDP per Capita)         float64\n",
              "Family                           float64\n",
              "Health (Life Expectancy)         float64\n",
              "Freedom                          float64\n",
              "Trust (Government Corruption)    float64\n",
              "Generosity                       float64\n",
              "Ano                                int64\n",
              "dtype: object"
            ]
          },
          "metadata": {},
          "execution_count": 29
        }
      ]
    },
    {
      "cell_type": "markdown",
      "source": [
        "## Tratamento de nulos"
      ],
      "metadata": {
        "id": "wXZjLg8GdVx-"
      }
    },
    {
      "cell_type": "code",
      "source": [
        "# Contando e agregando dados nulos\n",
        "df.isna().sum()"
      ],
      "metadata": {
        "colab": {
          "base_uri": "https://localhost:8080/"
        },
        "id": "WG7-Z5WFdZZA",
        "outputId": "d0d05305-9786-4f33-c4a4-5949a2051ee5"
      },
      "execution_count": 30,
      "outputs": [
        {
          "output_type": "execute_result",
          "data": {
            "text/plain": [
              "Country                          0\n",
              "Happiness Score                  0\n",
              "Economy (GDP per Capita)         0\n",
              "Family                           0\n",
              "Health (Life Expectancy)         0\n",
              "Freedom                          0\n",
              "Trust (Government Corruption)    1\n",
              "Generosity                       0\n",
              "Ano                              0\n",
              "dtype: int64"
            ]
          },
          "metadata": {},
          "execution_count": 30
        }
      ]
    },
    {
      "cell_type": "code",
      "source": [
        "# Localizando linha de valor nulo\n",
        "df.loc[df['Trust (Government Corruption)'].isnull() == True]"
      ],
      "metadata": {
        "colab": {
          "base_uri": "https://localhost:8080/",
          "height": 0
        },
        "id": "-h7bV6_odlmY",
        "outputId": "62d8bfec-90bd-44da-eb8b-8891a8b717c8"
      },
      "execution_count": 31,
      "outputs": [
        {
          "output_type": "execute_result",
          "data": {
            "text/plain": [
              "                  Country  Happiness Score  Economy (GDP per Capita)  Family  \\\n",
              "489  United Arab Emirates            6.774                     2.096   0.776   \n",
              "\n",
              "     Health (Life Expectancy)  Freedom  Trust (Government Corruption)  \\\n",
              "489                      0.67    0.284                            NaN   \n",
              "\n",
              "     Generosity   Ano  \n",
              "489       0.186  2018  "
            ],
            "text/html": [
              "\n",
              "  <div id=\"df-b7243982-92c1-49c6-9fde-897bf9c4775c\" class=\"colab-df-container\">\n",
              "    <div>\n",
              "<style scoped>\n",
              "    .dataframe tbody tr th:only-of-type {\n",
              "        vertical-align: middle;\n",
              "    }\n",
              "\n",
              "    .dataframe tbody tr th {\n",
              "        vertical-align: top;\n",
              "    }\n",
              "\n",
              "    .dataframe thead th {\n",
              "        text-align: right;\n",
              "    }\n",
              "</style>\n",
              "<table border=\"1\" class=\"dataframe\">\n",
              "  <thead>\n",
              "    <tr style=\"text-align: right;\">\n",
              "      <th></th>\n",
              "      <th>Country</th>\n",
              "      <th>Happiness Score</th>\n",
              "      <th>Economy (GDP per Capita)</th>\n",
              "      <th>Family</th>\n",
              "      <th>Health (Life Expectancy)</th>\n",
              "      <th>Freedom</th>\n",
              "      <th>Trust (Government Corruption)</th>\n",
              "      <th>Generosity</th>\n",
              "      <th>Ano</th>\n",
              "    </tr>\n",
              "  </thead>\n",
              "  <tbody>\n",
              "    <tr>\n",
              "      <th>489</th>\n",
              "      <td>United Arab Emirates</td>\n",
              "      <td>6.774</td>\n",
              "      <td>2.096</td>\n",
              "      <td>0.776</td>\n",
              "      <td>0.67</td>\n",
              "      <td>0.284</td>\n",
              "      <td>NaN</td>\n",
              "      <td>0.186</td>\n",
              "      <td>2018</td>\n",
              "    </tr>\n",
              "  </tbody>\n",
              "</table>\n",
              "</div>\n",
              "    <div class=\"colab-df-buttons\">\n",
              "\n",
              "  <div class=\"colab-df-container\">\n",
              "    <button class=\"colab-df-convert\" onclick=\"convertToInteractive('df-b7243982-92c1-49c6-9fde-897bf9c4775c')\"\n",
              "            title=\"Convert this dataframe to an interactive table.\"\n",
              "            style=\"display:none;\">\n",
              "\n",
              "  <svg xmlns=\"http://www.w3.org/2000/svg\" height=\"24px\" viewBox=\"0 -960 960 960\">\n",
              "    <path d=\"M120-120v-720h720v720H120Zm60-500h600v-160H180v160Zm220 220h160v-160H400v160Zm0 220h160v-160H400v160ZM180-400h160v-160H180v160Zm440 0h160v-160H620v160ZM180-180h160v-160H180v160Zm440 0h160v-160H620v160Z\"/>\n",
              "  </svg>\n",
              "    </button>\n",
              "\n",
              "  <style>\n",
              "    .colab-df-container {\n",
              "      display:flex;\n",
              "      gap: 12px;\n",
              "    }\n",
              "\n",
              "    .colab-df-convert {\n",
              "      background-color: #E8F0FE;\n",
              "      border: none;\n",
              "      border-radius: 50%;\n",
              "      cursor: pointer;\n",
              "      display: none;\n",
              "      fill: #1967D2;\n",
              "      height: 32px;\n",
              "      padding: 0 0 0 0;\n",
              "      width: 32px;\n",
              "    }\n",
              "\n",
              "    .colab-df-convert:hover {\n",
              "      background-color: #E2EBFA;\n",
              "      box-shadow: 0px 1px 2px rgba(60, 64, 67, 0.3), 0px 1px 3px 1px rgba(60, 64, 67, 0.15);\n",
              "      fill: #174EA6;\n",
              "    }\n",
              "\n",
              "    .colab-df-buttons div {\n",
              "      margin-bottom: 4px;\n",
              "    }\n",
              "\n",
              "    [theme=dark] .colab-df-convert {\n",
              "      background-color: #3B4455;\n",
              "      fill: #D2E3FC;\n",
              "    }\n",
              "\n",
              "    [theme=dark] .colab-df-convert:hover {\n",
              "      background-color: #434B5C;\n",
              "      box-shadow: 0px 1px 3px 1px rgba(0, 0, 0, 0.15);\n",
              "      filter: drop-shadow(0px 1px 2px rgba(0, 0, 0, 0.3));\n",
              "      fill: #FFFFFF;\n",
              "    }\n",
              "  </style>\n",
              "\n",
              "    <script>\n",
              "      const buttonEl =\n",
              "        document.querySelector('#df-b7243982-92c1-49c6-9fde-897bf9c4775c button.colab-df-convert');\n",
              "      buttonEl.style.display =\n",
              "        google.colab.kernel.accessAllowed ? 'block' : 'none';\n",
              "\n",
              "      async function convertToInteractive(key) {\n",
              "        const element = document.querySelector('#df-b7243982-92c1-49c6-9fde-897bf9c4775c');\n",
              "        const dataTable =\n",
              "          await google.colab.kernel.invokeFunction('convertToInteractive',\n",
              "                                                    [key], {});\n",
              "        if (!dataTable) return;\n",
              "\n",
              "        const docLinkHtml = 'Like what you see? Visit the ' +\n",
              "          '<a target=\"_blank\" href=https://colab.research.google.com/notebooks/data_table.ipynb>data table notebook</a>'\n",
              "          + ' to learn more about interactive tables.';\n",
              "        element.innerHTML = '';\n",
              "        dataTable['output_type'] = 'display_data';\n",
              "        await google.colab.output.renderOutput(dataTable, element);\n",
              "        const docLink = document.createElement('div');\n",
              "        docLink.innerHTML = docLinkHtml;\n",
              "        element.appendChild(docLink);\n",
              "      }\n",
              "    </script>\n",
              "  </div>\n",
              "\n",
              "\n",
              "    </div>\n",
              "  </div>\n"
            ],
            "application/vnd.google.colaboratory.intrinsic+json": {
              "type": "dataframe",
              "summary": "{\n  \"name\": \"df\",\n  \"rows\": 1,\n  \"fields\": [\n    {\n      \"column\": \"Country\",\n      \"properties\": {\n        \"dtype\": \"string\",\n        \"num_unique_values\": 1,\n        \"samples\": [\n          \"United Arab Emirates\"\n        ],\n        \"semantic_type\": \"\",\n        \"description\": \"\"\n      }\n    },\n    {\n      \"column\": \"Happiness Score\",\n      \"properties\": {\n        \"dtype\": \"number\",\n        \"std\": null,\n        \"min\": 6.774,\n        \"max\": 6.774,\n        \"num_unique_values\": 1,\n        \"samples\": [\n          6.774\n        ],\n        \"semantic_type\": \"\",\n        \"description\": \"\"\n      }\n    },\n    {\n      \"column\": \"Economy (GDP per Capita)\",\n      \"properties\": {\n        \"dtype\": \"number\",\n        \"std\": null,\n        \"min\": 2.096,\n        \"max\": 2.096,\n        \"num_unique_values\": 1,\n        \"samples\": [\n          2.096\n        ],\n        \"semantic_type\": \"\",\n        \"description\": \"\"\n      }\n    },\n    {\n      \"column\": \"Family\",\n      \"properties\": {\n        \"dtype\": \"number\",\n        \"std\": null,\n        \"min\": 0.776,\n        \"max\": 0.776,\n        \"num_unique_values\": 1,\n        \"samples\": [\n          0.776\n        ],\n        \"semantic_type\": \"\",\n        \"description\": \"\"\n      }\n    },\n    {\n      \"column\": \"Health (Life Expectancy)\",\n      \"properties\": {\n        \"dtype\": \"number\",\n        \"std\": null,\n        \"min\": 0.67,\n        \"max\": 0.67,\n        \"num_unique_values\": 1,\n        \"samples\": [\n          0.67\n        ],\n        \"semantic_type\": \"\",\n        \"description\": \"\"\n      }\n    },\n    {\n      \"column\": \"Freedom\",\n      \"properties\": {\n        \"dtype\": \"number\",\n        \"std\": null,\n        \"min\": 0.284,\n        \"max\": 0.284,\n        \"num_unique_values\": 1,\n        \"samples\": [\n          0.284\n        ],\n        \"semantic_type\": \"\",\n        \"description\": \"\"\n      }\n    },\n    {\n      \"column\": \"Trust (Government Corruption)\",\n      \"properties\": {\n        \"dtype\": \"number\",\n        \"std\": null,\n        \"min\": null,\n        \"max\": null,\n        \"num_unique_values\": 0,\n        \"samples\": [],\n        \"semantic_type\": \"\",\n        \"description\": \"\"\n      }\n    },\n    {\n      \"column\": \"Generosity\",\n      \"properties\": {\n        \"dtype\": \"number\",\n        \"std\": null,\n        \"min\": 0.186,\n        \"max\": 0.186,\n        \"num_unique_values\": 1,\n        \"samples\": [],\n        \"semantic_type\": \"\",\n        \"description\": \"\"\n      }\n    },\n    {\n      \"column\": \"Ano\",\n      \"properties\": {\n        \"dtype\": \"number\",\n        \"std\": null,\n        \"min\": 2018,\n        \"max\": 2018,\n        \"num_unique_values\": 1,\n        \"samples\": [],\n        \"semantic_type\": \"\",\n        \"description\": \"\"\n      }\n    }\n  ]\n}"
            }
          },
          "metadata": {},
          "execution_count": 31
        }
      ]
    },
    {
      "cell_type": "code",
      "source": [
        "# Substituição de valor nulo para a média geral\n",
        "df['Trust (Government Corruption)'].fillna(df['Trust (Government Corruption)'].mean(), inplace=True)"
      ],
      "metadata": {
        "id": "TRbYUqjGgDcB"
      },
      "execution_count": 32,
      "outputs": []
    },
    {
      "cell_type": "code",
      "source": [
        "# Validação\n",
        "df.isna().sum()"
      ],
      "metadata": {
        "colab": {
          "base_uri": "https://localhost:8080/"
        },
        "id": "xXZoFqyThCxW",
        "outputId": "a9e32323-5e71-4166-8426-70f975949308"
      },
      "execution_count": 33,
      "outputs": [
        {
          "output_type": "execute_result",
          "data": {
            "text/plain": [
              "Country                          0\n",
              "Happiness Score                  0\n",
              "Economy (GDP per Capita)         0\n",
              "Family                           0\n",
              "Health (Life Expectancy)         0\n",
              "Freedom                          0\n",
              "Trust (Government Corruption)    0\n",
              "Generosity                       0\n",
              "Ano                              0\n",
              "dtype: int64"
            ]
          },
          "metadata": {},
          "execution_count": 33
        }
      ]
    },
    {
      "cell_type": "code",
      "source": [
        "df_float = df.iloc[:,1:8]"
      ],
      "metadata": {
        "id": "2f1WtMb1jbfo"
      },
      "execution_count": 34,
      "outputs": []
    },
    {
      "cell_type": "code",
      "source": [
        "sns.heatmap(df_float.corr())"
      ],
      "metadata": {
        "colab": {
          "base_uri": "https://localhost:8080/",
          "height": 0
        },
        "id": "uNRd3C3MkAkr",
        "outputId": "fcea40a2-8bb6-4dbb-d1d2-0f29f9a98d46"
      },
      "execution_count": 35,
      "outputs": [
        {
          "output_type": "execute_result",
          "data": {
            "text/plain": [
              "<Axes: >"
            ]
          },
          "metadata": {},
          "execution_count": 35
        },
        {
          "output_type": "display_data",
          "data": {
            "text/plain": [
              "<Figure size 640x480 with 2 Axes>"
            ],
            "image/png": "[encoded data removed]"
          },
          "metadata": {}
        }
      ]
    },
    {
      "cell_type": "markdown",
      "source": [
        "## Análise de variáveis"
      ],
      "metadata": {
        "id": "bE_RKIzxiJ4J"
      }
    },
    {
      "cell_type": "code",
      "source": [
        "# Descrevendo as variáveis\n",
        "\n",
        "df.describe()"
      ],
      "metadata": {
        "colab": {
          "base_uri": "https://localhost:8080/",
          "height": 0
        },
        "id": "mtb-wWaiiPUp",
        "outputId": "179eec70-0932-45ea-cd5f-6b21e30c021d"
      },
      "execution_count": 36,
      "outputs": [
        {
          "output_type": "execute_result",
          "data": {
            "text/plain": [
              "       Happiness Score  Economy (GDP per Capita)      Family  \\\n",
              "count       782.000000                782.000000  782.000000   \n",
              "mean          5.379018                  0.916047    1.078392   \n",
              "std           1.127456                  0.407340    0.329548   \n",
              "min           2.693000                  0.000000    0.000000   \n",
              "25%           4.509750                  0.606500    0.869363   \n",
              "50%           5.322000                  0.982205    1.124735   \n",
              "75%           6.189500                  1.236187    1.327250   \n",
              "max           7.769000                  2.096000    1.644000   \n",
              "\n",
              "       Health (Life Expectancy)     Freedom  Trust (Government Corruption)  \\\n",
              "count                782.000000  782.000000                     782.000000   \n",
              "mean                   0.612416    0.411091                       0.125436   \n",
              "std                    0.248309    0.152880                       0.105749   \n",
              "min                    0.000000    0.000000                       0.000000   \n",
              "25%                    0.440183    0.309768                       0.054250   \n",
              "50%                    0.647310    0.431000                       0.091033   \n",
              "75%                    0.808000    0.531000                       0.155861   \n",
              "max                    1.141000    0.724000                       0.551910   \n",
              "\n",
              "       Generosity          Ano  \n",
              "count  782.000000   782.000000  \n",
              "mean     0.218576  2016.993606  \n",
              "std      0.122321     1.417364  \n",
              "min      0.000000  2015.000000  \n",
              "25%      0.130000  2016.000000  \n",
              "50%      0.201982  2017.000000  \n",
              "75%      0.278832  2018.000000  \n",
              "max      0.838075  2019.000000  "
            ],
            "text/html": [
              "\n",
              "  <div id=\"df-b76464d5-c561-46fe-84fd-071c5505182a\" class=\"colab-df-container\">\n",
              "    <div>\n",
              "<style scoped>\n",
              "    .dataframe tbody tr th:only-of-type {\n",
              "        vertical-align: middle;\n",
              "    }\n",
              "\n",
              "    .dataframe tbody tr th {\n",
              "        vertical-align: top;\n",
              "    }\n",
              "\n",
              "    .dataframe thead th {\n",
              "        text-align: right;\n",
              "    }\n",
              "</style>\n",
              "<table border=\"1\" class=\"dataframe\">\n",
              "  <thead>\n",
              "    <tr style=\"text-align: right;\">\n",
              "      <th></th>\n",
              "      <th>Happiness Score</th>\n",
              "      <th>Economy (GDP per Capita)</th>\n",
              "      <th>Family</th>\n",
              "      <th>Health (Life Expectancy)</th>\n",
              "      <th>Freedom</th>\n",
              "      <th>Trust (Government Corruption)</th>\n",
              "      <th>Generosity</th>\n",
              "      <th>Ano</th>\n",
              "    </tr>\n",
              "  </thead>\n",
              "  <tbody>\n",
              "    <tr>\n",
              "      <th>count</th>\n",
              "      <td>782.000000</td>\n",
              "      <td>782.000000</td>\n",
              "      <td>782.000000</td>\n",
              "      <td>782.000000</td>\n",
              "      <td>782.000000</td>\n",
              "      <td>782.000000</td>\n",
              "      <td>782.000000</td>\n",
              "      <td>782.000000</td>\n",
              "    </tr>\n",
              "    <tr>\n",
              "      <th>mean</th>\n",
              "      <td>5.379018</td>\n",
              "      <td>0.916047</td>\n",
              "      <td>1.078392</td>\n",
              "      <td>0.612416</td>\n",
              "      <td>0.411091</td>\n",
              "      <td>0.125436</td>\n",
              "      <td>0.218576</td>\n",
              "      <td>2016.993606</td>\n",
              "    </tr>\n",
              "    <tr>\n",
              "      <th>std</th>\n",
              "      <td>1.127456</td>\n",
              "      <td>0.407340</td>\n",
              "      <td>0.329548</td>\n",
              "      <td>0.248309</td>\n",
              "      <td>0.152880</td>\n",
              "      <td>0.105749</td>\n",
              "      <td>0.122321</td>\n",
              "      <td>1.417364</td>\n",
              "    </tr>\n",
              "    <tr>\n",
              "      <th>min</th>\n",
              "      <td>2.693000</td>\n",
              "      <td>0.000000</td>\n",
              "      <td>0.000000</td>\n",
              "      <td>0.000000</td>\n",
              "      <td>0.000000</td>\n",
              "      <td>0.000000</td>\n",
              "      <td>0.000000</td>\n",
              "      <td>2015.000000</td>\n",
              "    </tr>\n",
              "    <tr>\n",
              "      <th>25%</th>\n",
              "      <td>4.509750</td>\n",
              "      <td>0.606500</td>\n",
              "      <td>0.869363</td>\n",
              "      <td>0.440183</td>\n",
              "      <td>0.309768</td>\n",
              "      <td>0.054250</td>\n",
              "      <td>0.130000</td>\n",
              "      <td>2016.000000</td>\n",
              "    </tr>\n",
              "    <tr>\n",
              "      <th>50%</th>\n",
              "      <td>5.322000</td>\n",
              "      <td>0.982205</td>\n",
              "      <td>1.124735</td>\n",
              "      <td>0.647310</td>\n",
              "      <td>0.431000</td>\n",
              "      <td>0.091033</td>\n",
              "      <td>0.201982</td>\n",
              "      <td>2017.000000</td>\n",
              "    </tr>\n",
              "    <tr>\n",
              "      <th>75%</th>\n",
              "      <td>6.189500</td>\n",
              "      <td>1.236187</td>\n",
              "      <td>1.327250</td>\n",
              "      <td>0.808000</td>\n",
              "      <td>0.531000</td>\n",
              "      <td>0.155861</td>\n",
              "      <td>0.278832</td>\n",
              "      <td>2018.000000</td>\n",
              "    </tr>\n",
              "    <tr>\n",
              "      <th>max</th>\n",
              "      <td>7.769000</td>\n",
              "      <td>2.096000</td>\n",
              "      <td>1.644000</td>\n",
              "      <td>1.141000</td>\n",
              "      <td>0.724000</td>\n",
              "      <td>0.551910</td>\n",
              "      <td>0.838075</td>\n",
              "      <td>2019.000000</td>\n",
              "    </tr>\n",
              "  </tbody>\n",
              "</table>\n",
              "</div>\n",
              "    <div class=\"colab-df-buttons\">\n",
              "\n",
              "  <div class=\"colab-df-container\">\n",
              "    <button class=\"colab-df-convert\" onclick=\"convertToInteractive('df-b76464d5-c561-46fe-84fd-071c5505182a')\"\n",
              "            title=\"Convert this dataframe to an interactive table.\"\n",
              "            style=\"display:none;\">\n",
              "\n",
              "  <svg xmlns=\"http://www.w3.org/2000/svg\" height=\"24px\" viewBox=\"0 -960 960 960\">\n",
              "    <path d=\"M120-120v-720h720v720H120Zm60-500h600v-160H180v160Zm220 220h160v-160H400v160Zm0 220h160v-160H400v160ZM180-400h160v-160H180v160Zm440 0h160v-160H620v160ZM180-180h160v-160H180v160Zm440 0h160v-160H620v160Z\"/>\n",
              "  </svg>\n",
              "    </button>\n",
              "\n",
              "  <style>\n",
              "    .colab-df-container {\n",
              "      display:flex;\n",
              "      gap: 12px;\n",
              "    }\n",
              "\n",
              "    .colab-df-convert {\n",
              "      background-color: #E8F0FE;\n",
              "      border: none;\n",
              "      border-radius: 50%;\n",
              "      cursor: pointer;\n",
              "      display: none;\n",
              "      fill: #1967D2;\n",
              "      height: 32px;\n",
              "      padding: 0 0 0 0;\n",
              "      width: 32px;\n",
              "    }\n",
              "\n",
              "    .colab-df-convert:hover {\n",
              "      background-color: #E2EBFA;\n",
              "      box-shadow: 0px 1px 2px rgba(60, 64, 67, 0.3), 0px 1px 3px 1px rgba(60, 64, 67, 0.15);\n",
              "      fill: #174EA6;\n",
              "    }\n",
              "\n",
              "    .colab-df-buttons div {\n",
              "      margin-bottom: 4px;\n",
              "    }\n",
              "\n",
              "    [theme=dark] .colab-df-convert {\n",
              "      background-color: #3B4455;\n",
              "      fill: #D2E3FC;\n",
              "    }\n",
              "\n",
              "    [theme=dark] .colab-df-convert:hover {\n",
              "      background-color: #434B5C;\n",
              "      box-shadow: 0px 1px 3px 1px rgba(0, 0, 0, 0.15);\n",
              "      filter: drop-shadow(0px 1px 2px rgba(0, 0, 0, 0.3));\n",
              "      fill: #FFFFFF;\n",
              "    }\n",
              "  </style>\n",
              "\n",
              "    <script>\n",
              "      const buttonEl =\n",
              "        document.querySelector('#df-b76464d5-c561-46fe-84fd-071c5505182a button.colab-df-convert');\n",
              "      buttonEl.style.display =\n",
              "        google.colab.kernel.accessAllowed ? 'block' : 'none';\n",
              "\n",
              "      async function convertToInteractive(key) {\n",
              "        const element = document.querySelector('#df-b76464d5-c561-46fe-84fd-071c5505182a');\n",
              "        const dataTable =\n",
              "          await google.colab.kernel.invokeFunction('convertToInteractive',\n",
              "                                                    [key], {});\n",
              "        if (!dataTable) return;\n",
              "\n",
              "        const docLinkHtml = 'Like what you see? Visit the ' +\n",
              "          '<a target=\"_blank\" href=https://colab.research.google.com/notebooks/data_table.ipynb>data table notebook</a>'\n",
              "          + ' to learn more about interactive tables.';\n",
              "        element.innerHTML = '';\n",
              "        dataTable['output_type'] = 'display_data';\n",
              "        await google.colab.output.renderOutput(dataTable, element);\n",
              "        const docLink = document.createElement('div');\n",
              "        docLink.innerHTML = docLinkHtml;\n",
              "        element.appendChild(docLink);\n",
              "      }\n",
              "    </script>\n",
              "  </div>\n",
              "\n",
              "\n",
              "<div id=\"df-8c4e1386-9b38-43fa-89ff-12f7ea6ab974\">\n",
              "  <button class=\"colab-df-quickchart\" onclick=\"quickchart('df-8c4e1386-9b38-43fa-89ff-12f7ea6ab974')\"\n",
              "            title=\"Suggest charts\"\n",
              "            style=\"display:none;\">\n",
              "\n",
              "<svg xmlns=\"http://www.w3.org/2000/svg\" height=\"24px\"viewBox=\"0 0 24 24\"\n",
              "     width=\"24px\">\n",
              "    <g>\n",
              "        <path d=\"M19 3H5c-1.1 0-2 .9-2 2v14c0 1.1.9 2 2 2h14c1.1 0 2-.9 2-2V5c0-1.1-.9-2-2-2zM9 17H7v-7h2v7zm4 0h-2V7h2v10zm4 0h-2v-4h2v4z\"/>\n",
              "    </g>\n",
              "</svg>\n",
              "  </button>\n",
              "\n",
              "<style>\n",
              "  .colab-df-quickchart {\n",
              "      --bg-color: #E8F0FE;\n",
              "      --fill-color: #1967D2;\n",
              "      --hover-bg-color: #E2EBFA;\n",
              "      --hover-fill-color: #174EA6;\n",
              "      --disabled-fill-color: #AAA;\n",
              "      --disabled-bg-color: #DDD;\n",
              "  }\n",
              "\n",
              "  [theme=dark] .colab-df-quickchart {\n",
              "      --bg-color: #3B4455;\n",
              "      --fill-color: #D2E3FC;\n",
              "      --hover-bg-color: #434B5C;\n",
              "      --hover-fill-color: #FFFFFF;\n",
              "      --disabled-bg-color: #3B4455;\n",
              "      --disabled-fill-color: #666;\n",
              "  }\n",
              "\n",
              "  .colab-df-quickchart {\n",
              "    background-color: var(--bg-color);\n",
              "    border: none;\n",
              "    border-radius: 50%;\n",
              "    cursor: pointer;\n",
              "    display: none;\n",
              "    fill: var(--fill-color);\n",
              "    height: 32px;\n",
              "    padding: 0;\n",
              "    width: 32px;\n",
              "  }\n",
              "\n",
              "  .colab-df-quickchart:hover {\n",
              "    background-color: var(--hover-bg-color);\n",
              "    box-shadow: 0 1px 2px rgba(60, 64, 67, 0.3), 0 1px 3px 1px rgba(60, 64, 67, 0.15);\n",
              "    fill: var(--button-hover-fill-color);\n",
              "  }\n",
              "\n",
              "  .colab-df-quickchart-complete:disabled,\n",
              "  .colab-df-quickchart-complete:disabled:hover {\n",
              "    background-color: var(--disabled-bg-color);\n",
              "    fill: var(--disabled-fill-color);\n",
              "    box-shadow: none;\n",
              "  }\n",
              "\n",
              "  .colab-df-spinner {\n",
              "    border: 2px solid var(--fill-color);\n",
              "    border-color: transparent;\n",
              "    border-bottom-color: var(--fill-color);\n",
              "    animation:\n",
              "      spin 1s steps(1) infinite;\n",
              "  }\n",
              "\n",
              "  @keyframes spin {\n",
              "    0% {\n",
              "      border-color: transparent;\n",
              "      border-bottom-color: var(--fill-color);\n",
              "      border-left-color: var(--fill-color);\n",
              "    }\n",
              "    20% {\n",
              "      border-color: transparent;\n",
              "      border-left-color: var(--fill-color);\n",
              "      border-top-color: var(--fill-color);\n",
              "    }\n",
              "    30% {\n",
              "      border-color: transparent;\n",
              "      border-left-color: var(--fill-color);\n",
              "      border-top-color: var(--fill-color);\n",
              "      border-right-color: var(--fill-color);\n",
              "    }\n",
              "    40% {\n",
              "      border-color: transparent;\n",
              "      border-right-color: var(--fill-color);\n",
              "      border-top-color: var(--fill-color);\n",
              "    }\n",
              "    60% {\n",
              "      border-color: transparent;\n",
              "      border-right-color: var(--fill-color);\n",
              "    }\n",
              "    80% {\n",
              "      border-color: transparent;\n",
              "      border-right-color: var(--fill-color);\n",
              "      border-bottom-color: var(--fill-color);\n",
              "    }\n",
              "    90% {\n",
              "      border-color: transparent;\n",
              "      border-bottom-color: var(--fill-color);\n",
              "    }\n",
              "  }\n",
              "</style>\n",
              "\n",
              "  <script>\n",
              "    async function quickchart(key) {\n",
              "      const quickchartButtonEl =\n",
              "        document.querySelector('#' + key + ' button');\n",
              "      quickchartButtonEl.disabled = true;  // To prevent multiple clicks.\n",
              "      quickchartButtonEl.classList.add('colab-df-spinner');\n",
              "      try {\n",
              "        const charts = await google.colab.kernel.invokeFunction(\n",
              "            'suggestCharts', [key], {});\n",
              "      } catch (error) {\n",
              "        console.error('Error during call to suggestCharts:', error);\n",
              "      }\n",
              "      quickchartButtonEl.classList.remove('colab-df-spinner');\n",
              "      quickchartButtonEl.classList.add('colab-df-quickchart-complete');\n",
              "    }\n",
              "    (() => {\n",
              "      let quickchartButtonEl =\n",
              "        document.querySelector('#df-8c4e1386-9b38-43fa-89ff-12f7ea6ab974 button');\n",
              "      quickchartButtonEl.style.display =\n",
              "        google.colab.kernel.accessAllowed ? 'block' : 'none';\n",
              "    })();\n",
              "  </script>\n",
              "</div>\n",
              "\n",
              "    </div>\n",
              "  </div>\n"
            ],
            "application/vnd.google.colaboratory.intrinsic+json": {
              "type": "dataframe",
              "summary": "{\n  \"name\": \"df\",\n  \"rows\": 8,\n  \"fields\": [\n    {\n      \"column\": \"Happiness Score\",\n      \"properties\": {\n        \"dtype\": \"number\",\n        \"std\": 274.82013719971195,\n        \"min\": 1.1274564601550123,\n        \"max\": 782.0,\n        \"num_unique_values\": 8,\n        \"samples\": [\n          5.379017902998669,\n          5.322,\n          782.0\n        ],\n        \"semantic_type\": \"\",\n        \"description\": \"\"\n      }\n    },\n    {\n      \"column\": \"Economy (GDP per Capita)\",\n      \"properties\": {\n        \"dtype\": \"number\",\n        \"std\": 276.1640631697047,\n        \"min\": 0.0,\n        \"max\": 782.0,\n        \"num_unique_values\": 8,\n        \"samples\": [\n          0.9160474824829717,\n          0.9822047088146211,\n          782.0\n        ],\n        \"semantic_type\": \"\",\n        \"description\": \"\"\n      }\n    },\n    {\n      \"column\": \"Family\",\n      \"properties\": {\n        \"dtype\": \"number\",\n        \"std\": 276.15735717870757,\n        \"min\": 0.0,\n        \"max\": 782.0,\n        \"num_unique_values\": 8,\n        \"samples\": [\n          1.0783924825069788,\n          1.124735,\n          782.0\n        ],\n        \"semantic_type\": \"\",\n        \"description\": \"\"\n      }\n    },\n    {\n      \"column\": \"Health (Life Expectancy)\",\n      \"properties\": {\n        \"dtype\": \"number\",\n        \"std\": 276.28212803868,\n        \"min\": 0.0,\n        \"max\": 782.0,\n        \"num_unique_values\": 8,\n        \"samples\": [\n          0.612415577116253,\n          0.6473095147037504,\n          782.0\n        ],\n        \"semantic_type\": \"\",\n        \"description\": \"\"\n      }\n    },\n    {\n      \"column\": \"Freedom\",\n      \"properties\": {\n        \"dtype\": \"number\",\n        \"std\": 276.3495540755421,\n        \"min\": 0.0,\n        \"max\": 782.0,\n        \"num_unique_values\": 8,\n        \"samples\": [\n          0.4110908258223148,\n          0.431,\n          782.0\n        ],\n        \"semantic_type\": \"\",\n        \"description\": \"\"\n      }\n    },\n    {\n      \"column\": \"Trust (Government Corruption)\",\n      \"properties\": {\n        \"dtype\": \"number\",\n        \"std\": 276.42404059990685,\n        \"min\": 0.0,\n        \"max\": 782.0,\n        \"num_unique_values\": 8,\n        \"samples\": [\n          0.12543561357358718,\n          0.0910329567193985,\n          782.0\n        ],\n        \"semantic_type\": \"\",\n        \"description\": \"\"\n      }\n    },\n    {\n      \"column\": \"Generosity\",\n      \"properties\": {\n        \"dtype\": \"number\",\n        \"std\": 276.38846804599734,\n        \"min\": 0.0,\n        \"max\": 782.0,\n        \"num_unique_values\": 8,\n        \"samples\": [\n          0.2185758415608299,\n          0.2019822115302085,\n          782.0\n        ],\n        \"semantic_type\": \"\",\n        \"description\": \"\"\n      }\n    },\n    {\n      \"column\": \"Ano\",\n      \"properties\": {\n        \"dtype\": \"number\",\n        \"std\": 780.7521310580232,\n        \"min\": 1.417364432424796,\n        \"max\": 2019.0,\n        \"num_unique_values\": 8,\n        \"samples\": [\n          2016.9936061381075,\n          2017.0,\n          782.0\n        ],\n        \"semantic_type\": \"\",\n        \"description\": \"\"\n      }\n    }\n  ]\n}"
            }
          },
          "metadata": {},
          "execution_count": 36
        }
      ]
    },
    {
      "cell_type": "markdown",
      "source": [
        "### Happiness Score: índice de felicidade da população medido na escala entre 0 a 10"
      ],
      "metadata": {
        "id": "HDIWFDRbjUlT"
      }
    },
    {
      "cell_type": "code",
      "source": [
        "plt.figure(figsize=(3,2))\n",
        "sns.histplot(df, x='Happiness Score', color='orange')\n",
        "plt.title('Distribuição da variável Happiness Score ')"
      ],
      "metadata": {
        "colab": {
          "base_uri": "https://localhost:8080/",
          "height": 0
        },
        "id": "QLpzafLXj6Wy",
        "outputId": "12e0b88d-966f-48c4-fb9b-bc86a6588635"
      },
      "execution_count": 37,
      "outputs": [
        {
          "output_type": "execute_result",
          "data": {
            "text/plain": [
              "Text(0.5, 1.0, 'Distribuição da variável Happiness Score ')"
            ]
          },
          "metadata": {},
          "execution_count": 37
        },
        {
          "output_type": "display_data",
          "data": {
            "text/plain": [
              "<Figure size 300x200 with 1 Axes>"
            ],
            "image/png": "[encoded data removed]"
          },
          "metadata": {}
        }
      ]
    },
    {
      "cell_type": "markdown",
      "source": [
        "### Economy (GDP per Capita) : Variável que representa o PIB per capta do país"
      ],
      "metadata": {
        "id": "kceQqEkqqLhr"
      }
    },
    {
      "cell_type": "code",
      "source": [
        "df['Economy (GDP per Capita)'].value_counts()"
      ],
      "metadata": {
        "colab": {
          "base_uri": "https://localhost:8080/"
        },
        "id": "GZdFoZzXsbvb",
        "outputId": "817c8e27-e2e0-47a3-9d53-ad86951e8893"
      },
      "execution_count": 38,
      "outputs": [
        {
          "output_type": "execute_result",
          "data": {
            "text/plain": [
              "Economy (GDP per Capita)\n",
              "0.00000    5\n",
              "0.96000    4\n",
              "0.33200    3\n",
              "1.34000    3\n",
              "1.00400    2\n",
              "          ..\n",
              "1.01930    1\n",
              "0.74037    1\n",
              "0.25558    1\n",
              "0.97724    1\n",
              "0.30600    1\n",
              "Name: count, Length: 742, dtype: int64"
            ]
          },
          "metadata": {},
          "execution_count": 38
        }
      ]
    },
    {
      "cell_type": "code",
      "source": [
        "# É impossível existir país cujo PIB é zero. Devemos tratar estes valores\n",
        "\n",
        "pib = df.loc[df['Economy (GDP per Capita)'] != 0]"
      ],
      "metadata": {
        "id": "W4z-fxgEs6Yv"
      },
      "execution_count": 39,
      "outputs": []
    },
    {
      "cell_type": "code",
      "source": [
        "pib['Economy (GDP per Capita)'].value_counts()"
      ],
      "metadata": {
        "colab": {
          "base_uri": "https://localhost:8080/"
        },
        "id": "uNVaG71stcDd",
        "outputId": "50943e15-f5d5-4698-fe48-c39347d315e4"
      },
      "execution_count": 40,
      "outputs": [
        {
          "output_type": "execute_result",
          "data": {
            "text/plain": [
              "Economy (GDP per Capita)\n",
              "0.96000    4\n",
              "0.33200    3\n",
              "1.34000    3\n",
              "1.00400    2\n",
              "0.80700    2\n",
              "          ..\n",
              "1.01930    1\n",
              "0.74037    1\n",
              "0.25558    1\n",
              "0.97724    1\n",
              "0.30600    1\n",
              "Name: count, Length: 741, dtype: int64"
            ]
          },
          "metadata": {},
          "execution_count": 40
        }
      ]
    },
    {
      "cell_type": "code",
      "source": [
        "plt.figure(figsize=(3,2))\n",
        "sns.histplot(pib, x='Economy (GDP per Capita)', color='green')\n",
        "plt.title('Distribuição da variável Economy (GDP per Capita)')"
      ],
      "metadata": {
        "colab": {
          "base_uri": "https://localhost:8080/",
          "height": 0
        },
        "id": "dxzMteDRqTip",
        "outputId": "adf8a17e-09d0-4a43-9dbf-7ba15c23aeab"
      },
      "execution_count": 41,
      "outputs": [
        {
          "output_type": "execute_result",
          "data": {
            "text/plain": [
              "Text(0.5, 1.0, 'Distribuição da variável Economy (GDP per Capita)')"
            ]
          },
          "metadata": {},
          "execution_count": 41
        },
        {
          "output_type": "display_data",
          "data": {
            "text/plain": [
              "<Figure size 300x200 with 1 Axes>"
            ],
            "image/png": "[encoded data removed]"
          },
          "metadata": {}
        }
      ]
    },
    {
      "cell_type": "markdown",
      "source": [
        "###Family: Índice de bons laços familiares"
      ],
      "metadata": {
        "id": "sqo7twWgvDEz"
      }
    },
    {
      "cell_type": "code",
      "source": [
        "df['Family'].value_counts()"
      ],
      "metadata": {
        "colab": {
          "base_uri": "https://localhost:8080/"
        },
        "id": "gPds9_Wa0ggS",
        "outputId": "864ad04b-3104-4b10-dbec-90ba0ce975c1"
      },
      "execution_count": 42,
      "outputs": [
        {
          "output_type": "execute_result",
          "data": {
            "text/plain": [
              "Family\n",
              "0.00000    5\n",
              "1.46500    3\n",
              "1.53800    3\n",
              "1.41000    3\n",
              "1.50400    3\n",
              "          ..\n",
              "0.38595    1\n",
              "0.93164    1\n",
              "0.26135    1\n",
              "0.64184    1\n",
              "0.57500    1\n",
              "Name: count, Length: 732, dtype: int64"
            ]
          },
          "metadata": {},
          "execution_count": 42
        }
      ]
    },
    {
      "cell_type": "code",
      "source": [
        "fam = df.loc[df['Family'] != 0]"
      ],
      "metadata": {
        "id": "NMET9Mbo0rg4"
      },
      "execution_count": 43,
      "outputs": []
    },
    {
      "cell_type": "code",
      "source": [
        "plt.figure(figsize=(3,2))\n",
        "sns.histplot(fam, x='Family', color='yellow')\n",
        "plt.title('Distribuição da variável Family')"
      ],
      "metadata": {
        "colab": {
          "base_uri": "https://localhost:8080/",
          "height": 0
        },
        "id": "1BvNK8V7u9oO",
        "outputId": "b8c5eb88-ff53-44f7-d849-9ea31aced608"
      },
      "execution_count": 44,
      "outputs": [
        {
          "output_type": "execute_result",
          "data": {
            "text/plain": [
              "Text(0.5, 1.0, 'Distribuição da variável Family')"
            ]
          },
          "metadata": {},
          "execution_count": 44
        },
        {
          "output_type": "display_data",
          "data": {
            "text/plain": [
              "<Figure size 300x200 with 1 Axes>"
            ],
            "image/png": "[encoded data removed]"
          },
          "metadata": {}
        }
      ]
    },
    {
      "cell_type": "markdown",
      "source": [
        "###Health (Life Expectancy): Expectativa de vida"
      ],
      "metadata": {
        "id": "Uo78tQkb1__d"
      }
    },
    {
      "cell_type": "code",
      "source": [
        "df['Health (Life Expectancy)'].value_counts()\n"
      ],
      "metadata": {
        "id": "Qb2Br3gS3DrD",
        "colab": {
          "base_uri": "https://localhost:8080/"
        },
        "outputId": "333a08e4-f99b-4821-b05b-af4ffd31ae62"
      },
      "execution_count": 45,
      "outputs": [
        {
          "output_type": "execute_result",
          "data": {
            "text/plain": [
              "Health (Life Expectancy)\n",
              "0.00000    5\n",
              "0.99900    5\n",
              "0.81500    5\n",
              "0.82800    4\n",
              "0.87400    4\n",
              "          ..\n",
              "0.47036    1\n",
              "0.73561    1\n",
              "0.49759    1\n",
              "0.55449    1\n",
              "0.10500    1\n",
              "Name: count, Length: 705, dtype: int64"
            ]
          },
          "metadata": {},
          "execution_count": 45
        }
      ]
    },
    {
      "cell_type": "code",
      "source": [
        "exp = df.loc[df['Health (Life Expectancy)'] > 0]"
      ],
      "metadata": {
        "id": "5-xTK9Bw2WV7"
      },
      "execution_count": 46,
      "outputs": []
    },
    {
      "cell_type": "code",
      "source": [
        "plt.figure(figsize=(3,2))\n",
        "sns.histplot(exp, x='Health (Life Expectancy)')\n",
        "plt.title('Distribuição da variável Health (Life Expectancy)')"
      ],
      "metadata": {
        "colab": {
          "base_uri": "https://localhost:8080/",
          "height": 0
        },
        "id": "cYYgq3jz39WP",
        "outputId": "0a580312-5b82-4593-dde1-dd94cac75ad1"
      },
      "execution_count": 47,
      "outputs": [
        {
          "output_type": "execute_result",
          "data": {
            "text/plain": [
              "Text(0.5, 1.0, 'Distribuição da variável Health (Life Expectancy)')"
            ]
          },
          "metadata": {},
          "execution_count": 47
        },
        {
          "output_type": "display_data",
          "data": {
            "text/plain": [
              "<Figure size 300x200 with 1 Axes>"
            ],
            "image/png": "[encoded data removed]"
          },
          "metadata": {}
        }
      ]
    },
    {
      "cell_type": "markdown",
      "source": [
        "###Freedom: índice de liberdade para fazer escolhas, variando de 0 a 1"
      ],
      "metadata": {
        "id": "Aq_3PMd-7THW"
      }
    },
    {
      "cell_type": "code",
      "source": [
        "df['Freedom'].value_counts()\n",
        "free = df.loc[df['Freedom'] > 0]"
      ],
      "metadata": {
        "id": "WRWMGICX7jWA"
      },
      "execution_count": 48,
      "outputs": []
    },
    {
      "cell_type": "code",
      "source": [
        "plt.figure(figsize=(3,2))\n",
        "sns.histplot(free, x='Freedom', color='grey')\n",
        "plt.title('Distribuição da variável Freedom')"
      ],
      "metadata": {
        "colab": {
          "base_uri": "https://localhost:8080/",
          "height": 0
        },
        "id": "W171O1w37zau",
        "outputId": "c8540528-1b54-45ac-ae77-5cc55bebf5a9"
      },
      "execution_count": 49,
      "outputs": [
        {
          "output_type": "execute_result",
          "data": {
            "text/plain": [
              "Text(0.5, 1.0, 'Distribuição da variável Freedom')"
            ]
          },
          "metadata": {},
          "execution_count": 49
        },
        {
          "output_type": "display_data",
          "data": {
            "text/plain": [
              "<Figure size 300x200 with 1 Axes>"
            ],
            "image/png": "[encoded data removed]"
          },
          "metadata": {}
        }
      ]
    },
    {
      "cell_type": "markdown",
      "source": [
        "###Trust (Government Corruption): índice de confiabilidade em relação à corrupção"
      ],
      "metadata": {
        "id": "tKCxRzb-8xgP"
      }
    },
    {
      "cell_type": "code",
      "source": [
        "df['Trust (Government Corruption)'].value_counts()\n",
        "trust = df.loc[df['Trust (Government Corruption)'] > 0]"
      ],
      "metadata": {
        "id": "9myUQUjI9UL9"
      },
      "execution_count": 50,
      "outputs": []
    },
    {
      "cell_type": "code",
      "source": [
        "plt.figure(figsize=(3,2))\n",
        "sns.histplot(trust, x='Trust (Government Corruption)', color='red')\n",
        "plt.title('Distribuição da variável Trust (Government Corruption)')"
      ],
      "metadata": {
        "colab": {
          "base_uri": "https://localhost:8080/",
          "height": 0
        },
        "id": "J-2apdfo-KBR",
        "outputId": "4699cc28-ec49-47f6-fe21-1c945d502110"
      },
      "execution_count": 51,
      "outputs": [
        {
          "output_type": "execute_result",
          "data": {
            "text/plain": [
              "Text(0.5, 1.0, 'Distribuição da variável Trust (Government Corruption)')"
            ]
          },
          "metadata": {},
          "execution_count": 51
        },
        {
          "output_type": "display_data",
          "data": {
            "text/plain": [
              "<Figure size 300x200 with 1 Axes>"
            ],
            "image/png": "[encoded data removed]"
          },
          "metadata": {}
        }
      ]
    },
    {
      "cell_type": "markdown",
      "source": [
        "###Generosity: índice de doações para a caridade no último mês"
      ],
      "metadata": {
        "id": "5KLmIwF1d2mE"
      }
    },
    {
      "cell_type": "code",
      "source": [
        "df['Generosity'].value_counts()"
      ],
      "metadata": {
        "colab": {
          "base_uri": "https://localhost:8080/"
        },
        "id": "By1O3RF-wvzN",
        "outputId": "a3edff85-6f25-4c56-c75a-41c7e86802bb"
      },
      "execution_count": 52,
      "outputs": [
        {
          "output_type": "execute_result",
          "data": {
            "text/plain": [
              "Generosity\n",
              "0.17500    6\n",
              "0.15300    5\n",
              "0.18700    5\n",
              "0.00000    5\n",
              "0.09900    4\n",
              "          ..\n",
              "0.22567    1\n",
              "0.36951    1\n",
              "0.17087    1\n",
              "0.17445    1\n",
              "0.27600    1\n",
              "Name: count, Length: 664, dtype: int64"
            ]
          },
          "metadata": {},
          "execution_count": 52
        }
      ]
    },
    {
      "cell_type": "code",
      "source": [
        "gen = df.loc[df['Generosity']>0]"
      ],
      "metadata": {
        "id": "VqffsGHrx9hz"
      },
      "execution_count": 53,
      "outputs": []
    },
    {
      "cell_type": "code",
      "source": [
        "plt.figure(figsize=(3,2))\n",
        "sns.histplot(gen, x='Generosity', color='blue')\n",
        "plt.title('Distribuição da variável Generosity')\n"
      ],
      "metadata": {
        "colab": {
          "base_uri": "https://localhost:8080/",
          "height": 0
        },
        "id": "likh88u8yI0S",
        "outputId": "4925ad47-9eb5-4b55-9a0c-18a2f6303615"
      },
      "execution_count": 54,
      "outputs": [
        {
          "output_type": "execute_result",
          "data": {
            "text/plain": [
              "Text(0.5, 1.0, 'Distribuição da variável Generosity')"
            ]
          },
          "metadata": {},
          "execution_count": 54
        },
        {
          "output_type": "display_data",
          "data": {
            "text/plain": [
              "<Figure size 300x200 with 1 Axes>"
            ],
            "image/png": "[encoded data removed]"
          },
          "metadata": {}
        }
      ]
    },
    {
      "cell_type": "markdown",
      "source": [
        "#Desenvolvimento dos modelos de Machine Learning"
      ],
      "metadata": {
        "id": "NR_OtlWx21DL"
      }
    },
    {
      "cell_type": "markdown",
      "source": [
        "##Pré-processamento"
      ],
      "metadata": {
        "id": "t1koL_TO3Bbw"
      }
    },
    {
      "cell_type": "code",
      "source": [
        "# A primeira etapa é transformar as variáveis categóricas em variáveis dummy\n",
        "\n",
        "df_c = set(df['Country']) # Para puxar somente a lista dos valores únicos\n",
        "df_c = list(df_c) # Reconvertendo para lista"
      ],
      "metadata": {
        "id": "H8KPYPoQ3GKr"
      },
      "execution_count": 55,
      "outputs": []
    },
    {
      "cell_type": "code",
      "source": [
        "len(df_c)"
      ],
      "metadata": {
        "colab": {
          "base_uri": "https://localhost:8080/"
        },
        "id": "THPYpDw025go",
        "outputId": "0fe2e2f9-e118-4e62-99e8-1115f0f923eb"
      },
      "execution_count": 56,
      "outputs": [
        {
          "output_type": "execute_result",
          "data": {
            "text/plain": [
              "170"
            ]
          },
          "metadata": {},
          "execution_count": 56
        }
      ]
    },
    {
      "cell_type": "code",
      "source": [
        "df_c = pd.DataFrame(df_c, columns=['Country']) #Recriando o df com base na lista única de países"
      ],
      "metadata": {
        "id": "k6VbFxtR9AdR"
      },
      "execution_count": 57,
      "outputs": []
    },
    {
      "cell_type": "code",
      "source": [
        "df_c.sort_values('Country', inplace=True) # Ordenando em ordem alfabética"
      ],
      "metadata": {
        "id": "I4KCVABs-yaA"
      },
      "execution_count": 58,
      "outputs": []
    },
    {
      "cell_type": "code",
      "source": [
        "df_c.reset_index(inplace=True) # Resetando o índice com a nova ordem"
      ],
      "metadata": {
        "id": "Ml0ZZA5t_D6k"
      },
      "execution_count": 59,
      "outputs": []
    },
    {
      "cell_type": "code",
      "source": [
        "df_c.drop('index', axis=1, inplace=True) # Removendo o índice antigo"
      ],
      "metadata": {
        "id": "Nm2dCp9Z_nDf"
      },
      "execution_count": 60,
      "outputs": []
    },
    {
      "cell_type": "code",
      "source": [
        "df_c['Country Code'] = df_c.index + 1 # Criando a chave primária desse df a partir da ordem dos países"
      ],
      "metadata": {
        "id": "WFzb3RYFAErQ"
      },
      "execution_count": 61,
      "outputs": []
    },
    {
      "cell_type": "code",
      "source": [
        "df_merge = pd.merge(df, df_c, how='inner', on='Country') # Unindo o df com o df_c com a coluna em comum Country"
      ],
      "metadata": {
        "id": "QP465Zi_APMd"
      },
      "execution_count": 62,
      "outputs": []
    },
    {
      "cell_type": "code",
      "source": [
        "df_merge_copy = df_merge.copy() #Backup"
      ],
      "metadata": {
        "id": "KUuH1mjJBBgj"
      },
      "execution_count": 63,
      "outputs": []
    },
    {
      "cell_type": "code",
      "source": [
        "df_merge.drop('Country', axis=1, inplace=True)"
      ],
      "metadata": {
        "id": "oaBQm9hBCpLH"
      },
      "execution_count": 64,
      "outputs": []
    },
    {
      "cell_type": "code",
      "source": [
        "df_merge.head()"
      ],
      "metadata": {
        "colab": {
          "base_uri": "https://localhost:8080/",
          "height": 224
        },
        "id": "wNqlwOCBEPE-",
        "outputId": "0e64f6ee-2f8d-40fd-ad05-489886e17957"
      },
      "execution_count": 65,
      "outputs": [
        {
          "output_type": "execute_result",
          "data": {
            "text/plain": [
              "   Happiness Score  Economy (GDP per Capita)    Family  \\\n",
              "0            7.587                   1.39651  1.349510   \n",
              "1            7.509                   1.52733  1.145240   \n",
              "2            7.494                   1.56498  1.516912   \n",
              "3            7.487                   1.42000  1.549000   \n",
              "4            7.480                   1.45200  1.526000   \n",
              "\n",
              "   Health (Life Expectancy)   Freedom  Trust (Government Corruption)  \\\n",
              "0                  0.941430  0.665570                       0.419780   \n",
              "1                  0.863030  0.585570                       0.412030   \n",
              "2                  0.858131  0.620071                       0.367007   \n",
              "3                  0.927000  0.660000                       0.357000   \n",
              "4                  1.052000  0.572000                       0.343000   \n",
              "\n",
              "   Generosity   Ano  Country Code  \n",
              "0    0.296780  2015           146  \n",
              "1    0.280830  2016           146  \n",
              "2    0.290549  2017           146  \n",
              "3    0.256000  2018           146  \n",
              "4    0.263000  2019           146  "
            ],
            "text/html": [
              "\n",
              "  <div id=\"df-049a8250-e319-46d0-9dbc-51aa34870193\" class=\"colab-df-container\">\n",
              "    <div>\n",
              "<style scoped>\n",
              "    .dataframe tbody tr th:only-of-type {\n",
              "        vertical-align: middle;\n",
              "    }\n",
              "\n",
              "    .dataframe tbody tr th {\n",
              "        vertical-align: top;\n",
              "    }\n",
              "\n",
              "    .dataframe thead th {\n",
              "        text-align: right;\n",
              "    }\n",
              "</style>\n",
              "<table border=\"1\" class=\"dataframe\">\n",
              "  <thead>\n",
              "    <tr style=\"text-align: right;\">\n",
              "      <th></th>\n",
              "      <th>Happiness Score</th>\n",
              "      <th>Economy (GDP per Capita)</th>\n",
              "      <th>Family</th>\n",
              "      <th>Health (Life Expectancy)</th>\n",
              "      <th>Freedom</th>\n",
              "      <th>Trust (Government Corruption)</th>\n",
              "      <th>Generosity</th>\n",
              "      <th>Ano</th>\n",
              "      <th>Country Code</th>\n",
              "    </tr>\n",
              "  </thead>\n",
              "  <tbody>\n",
              "    <tr>\n",
              "      <th>0</th>\n",
              "      <td>7.587</td>\n",
              "      <td>1.39651</td>\n",
              "      <td>1.349510</td>\n",
              "      <td>0.941430</td>\n",
              "      <td>0.665570</td>\n",
              "      <td>0.419780</td>\n",
              "      <td>0.296780</td>\n",
              "      <td>2015</td>\n",
              "      <td>146</td>\n",
              "    </tr>\n",
              "    <tr>\n",
              "      <th>1</th>\n",
              "      <td>7.509</td>\n",
              "      <td>1.52733</td>\n",
              "      <td>1.145240</td>\n",
              "      <td>0.863030</td>\n",
              "      <td>0.585570</td>\n",
              "      <td>0.412030</td>\n",
              "      <td>0.280830</td>\n",
              "      <td>2016</td>\n",
              "      <td>146</td>\n",
              "    </tr>\n",
              "    <tr>\n",
              "      <th>2</th>\n",
              "      <td>7.494</td>\n",
              "      <td>1.56498</td>\n",
              "      <td>1.516912</td>\n",
              "      <td>0.858131</td>\n",
              "      <td>0.620071</td>\n",
              "      <td>0.367007</td>\n",
              "      <td>0.290549</td>\n",
              "      <td>2017</td>\n",
              "      <td>146</td>\n",
              "    </tr>\n",
              "    <tr>\n",
              "      <th>3</th>\n",
              "      <td>7.487</td>\n",
              "      <td>1.42000</td>\n",
              "      <td>1.549000</td>\n",
              "      <td>0.927000</td>\n",
              "      <td>0.660000</td>\n",
              "      <td>0.357000</td>\n",
              "      <td>0.256000</td>\n",
              "      <td>2018</td>\n",
              "      <td>146</td>\n",
              "    </tr>\n",
              "    <tr>\n",
              "      <th>4</th>\n",
              "      <td>7.480</td>\n",
              "      <td>1.45200</td>\n",
              "      <td>1.526000</td>\n",
              "      <td>1.052000</td>\n",
              "      <td>0.572000</td>\n",
              "      <td>0.343000</td>\n",
              "      <td>0.263000</td>\n",
              "      <td>2019</td>\n",
              "      <td>146</td>\n",
              "    </tr>\n",
              "  </tbody>\n",
              "</table>\n",
              "</div>\n",
              "    <div class=\"colab-df-buttons\">\n",
              "\n",
              "  <div class=\"colab-df-container\">\n",
              "    <button class=\"colab-df-convert\" onclick=\"convertToInteractive('df-049a8250-e319-46d0-9dbc-51aa34870193')\"\n",
              "            title=\"Convert this dataframe to an interactive table.\"\n",
              "            style=\"display:none;\">\n",
              "\n",
              "  <svg xmlns=\"http://www.w3.org/2000/svg\" height=\"24px\" viewBox=\"0 -960 960 960\">\n",
              "    <path d=\"M120-120v-720h720v720H120Zm60-500h600v-160H180v160Zm220 220h160v-160H400v160Zm0 220h160v-160H400v160ZM180-400h160v-160H180v160Zm440 0h160v-160H620v160ZM180-180h160v-160H180v160Zm440 0h160v-160H620v160Z\"/>\n",
              "  </svg>\n",
              "    </button>\n",
              "\n",
              "  <style>\n",
              "    .colab-df-container {\n",
              "      display:flex;\n",
              "      gap: 12px;\n",
              "    }\n",
              "\n",
              "    .colab-df-convert {\n",
              "      background-color: #E8F0FE;\n",
              "      border: none;\n",
              "      border-radius: 50%;\n",
              "      cursor: pointer;\n",
              "      display: none;\n",
              "      fill: #1967D2;\n",
              "      height: 32px;\n",
              "      padding: 0 0 0 0;\n",
              "      width: 32px;\n",
              "    }\n",
              "\n",
              "    .colab-df-convert:hover {\n",
              "      background-color: #E2EBFA;\n",
              "      box-shadow: 0px 1px 2px rgba(60, 64, 67, 0.3), 0px 1px 3px 1px rgba(60, 64, 67, 0.15);\n",
              "      fill: #174EA6;\n",
              "    }\n",
              "\n",
              "    .colab-df-buttons div {\n",
              "      margin-bottom: 4px;\n",
              "    }\n",
              "\n",
              "    [theme=dark] .colab-df-convert {\n",
              "      background-color: #3B4455;\n",
              "      fill: #D2E3FC;\n",
              "    }\n",
              "\n",
              "    [theme=dark] .colab-df-convert:hover {\n",
              "      background-color: #434B5C;\n",
              "      box-shadow: 0px 1px 3px 1px rgba(0, 0, 0, 0.15);\n",
              "      filter: drop-shadow(0px 1px 2px rgba(0, 0, 0, 0.3));\n",
              "      fill: #FFFFFF;\n",
              "    }\n",
              "  </style>\n",
              "\n",
              "    <script>\n",
              "      const buttonEl =\n",
              "        document.querySelector('#df-049a8250-e319-46d0-9dbc-51aa34870193 button.colab-df-convert');\n",
              "      buttonEl.style.display =\n",
              "        google.colab.kernel.accessAllowed ? 'block' : 'none';\n",
              "\n",
              "      async function convertToInteractive(key) {\n",
              "        const element = document.querySelector('#df-049a8250-e319-46d0-9dbc-51aa34870193');\n",
              "        const dataTable =\n",
              "          await google.colab.kernel.invokeFunction('convertToInteractive',\n",
              "                                                    [key], {});\n",
              "        if (!dataTable) return;\n",
              "\n",
              "        const docLinkHtml = 'Like what you see? Visit the ' +\n",
              "          '<a target=\"_blank\" href=https://colab.research.google.com/notebooks/data_table.ipynb>data table notebook</a>'\n",
              "          + ' to learn more about interactive tables.';\n",
              "        element.innerHTML = '';\n",
              "        dataTable['output_type'] = 'display_data';\n",
              "        await google.colab.output.renderOutput(dataTable, element);\n",
              "        const docLink = document.createElement('div');\n",
              "        docLink.innerHTML = docLinkHtml;\n",
              "        element.appendChild(docLink);\n",
              "      }\n",
              "    </script>\n",
              "  </div>\n",
              "\n",
              "\n",
              "<div id=\"df-055c3cd9-daaa-4aa2-8cfe-8f54cf444be9\">\n",
              "  <button class=\"colab-df-quickchart\" onclick=\"quickchart('df-055c3cd9-daaa-4aa2-8cfe-8f54cf444be9')\"\n",
              "            title=\"Suggest charts\"\n",
              "            style=\"display:none;\">\n",
              "\n",
              "<svg xmlns=\"http://www.w3.org/2000/svg\" height=\"24px\"viewBox=\"0 0 24 24\"\n",
              "     width=\"24px\">\n",
              "    <g>\n",
              "        <path d=\"M19 3H5c-1.1 0-2 .9-2 2v14c0 1.1.9 2 2 2h14c1.1 0 2-.9 2-2V5c0-1.1-.9-2-2-2zM9 17H7v-7h2v7zm4 0h-2V7h2v10zm4 0h-2v-4h2v4z\"/>\n",
              "    </g>\n",
              "</svg>\n",
              "  </button>\n",
              "\n",
              "<style>\n",
              "  .colab-df-quickchart {\n",
              "      --bg-color: #E8F0FE;\n",
              "      --fill-color: #1967D2;\n",
              "      --hover-bg-color: #E2EBFA;\n",
              "      --hover-fill-color: #174EA6;\n",
              "      --disabled-fill-color: #AAA;\n",
              "      --disabled-bg-color: #DDD;\n",
              "  }\n",
              "\n",
              "  [theme=dark] .colab-df-quickchart {\n",
              "      --bg-color: #3B4455;\n",
              "      --fill-color: #D2E3FC;\n",
              "      --hover-bg-color: #434B5C;\n",
              "      --hover-fill-color: #FFFFFF;\n",
              "      --disabled-bg-color: #3B4455;\n",
              "      --disabled-fill-color: #666;\n",
              "  }\n",
              "\n",
              "  .colab-df-quickchart {\n",
              "    background-color: var(--bg-color);\n",
              "    border: none;\n",
              "    border-radius: 50%;\n",
              "    cursor: pointer;\n",
              "    display: none;\n",
              "    fill: var(--fill-color);\n",
              "    height: 32px;\n",
              "    padding: 0;\n",
              "    width: 32px;\n",
              "  }\n",
              "\n",
              "  .colab-df-quickchart:hover {\n",
              "    background-color: var(--hover-bg-color);\n",
              "    box-shadow: 0 1px 2px rgba(60, 64, 67, 0.3), 0 1px 3px 1px rgba(60, 64, 67, 0.15);\n",
              "    fill: var(--button-hover-fill-color);\n",
              "  }\n",
              "\n",
              "  .colab-df-quickchart-complete:disabled,\n",
              "  .colab-df-quickchart-complete:disabled:hover {\n",
              "    background-color: var(--disabled-bg-color);\n",
              "    fill: var(--disabled-fill-color);\n",
              "    box-shadow: none;\n",
              "  }\n",
              "\n",
              "  .colab-df-spinner {\n",
              "    border: 2px solid var(--fill-color);\n",
              "    border-color: transparent;\n",
              "    border-bottom-color: var(--fill-color);\n",
              "    animation:\n",
              "      spin 1s steps(1) infinite;\n",
              "  }\n",
              "\n",
              "  @keyframes spin {\n",
              "    0% {\n",
              "      border-color: transparent;\n",
              "      border-bottom-color: var(--fill-color);\n",
              "      border-left-color: var(--fill-color);\n",
              "    }\n",
              "    20% {\n",
              "      border-color: transparent;\n",
              "      border-left-color: var(--fill-color);\n",
              "      border-top-color: var(--fill-color);\n",
              "    }\n",
              "    30% {\n",
              "      border-color: transparent;\n",
              "      border-left-color: var(--fill-color);\n",
              "      border-top-color: var(--fill-color);\n",
              "      border-right-color: var(--fill-color);\n",
              "    }\n",
              "    40% {\n",
              "      border-color: transparent;\n",
              "      border-right-color: var(--fill-color);\n",
              "      border-top-color: var(--fill-color);\n",
              "    }\n",
              "    60% {\n",
              "      border-color: transparent;\n",
              "      border-right-color: var(--fill-color);\n",
              "    }\n",
              "    80% {\n",
              "      border-color: transparent;\n",
              "      border-right-color: var(--fill-color);\n",
              "      border-bottom-color: var(--fill-color);\n",
              "    }\n",
              "    90% {\n",
              "      border-color: transparent;\n",
              "      border-bottom-color: var(--fill-color);\n",
              "    }\n",
              "  }\n",
              "</style>\n",
              "\n",
              "  <script>\n",
              "    async function quickchart(key) {\n",
              "      const quickchartButtonEl =\n",
              "        document.querySelector('#' + key + ' button');\n",
              "      quickchartButtonEl.disabled = true;  // To prevent multiple clicks.\n",
              "      quickchartButtonEl.classList.add('colab-df-spinner');\n",
              "      try {\n",
              "        const charts = await google.colab.kernel.invokeFunction(\n",
              "            'suggestCharts', [key], {});\n",
              "      } catch (error) {\n",
              "        console.error('Error during call to suggestCharts:', error);\n",
              "      }\n",
              "      quickchartButtonEl.classList.remove('colab-df-spinner');\n",
              "      quickchartButtonEl.classList.add('colab-df-quickchart-complete');\n",
              "    }\n",
              "    (() => {\n",
              "      let quickchartButtonEl =\n",
              "        document.querySelector('#df-055c3cd9-daaa-4aa2-8cfe-8f54cf444be9 button');\n",
              "      quickchartButtonEl.style.display =\n",
              "        google.colab.kernel.accessAllowed ? 'block' : 'none';\n",
              "    })();\n",
              "  </script>\n",
              "</div>\n",
              "\n",
              "    </div>\n",
              "  </div>\n"
            ],
            "application/vnd.google.colaboratory.intrinsic+json": {
              "type": "dataframe",
              "variable_name": "df_merge",
              "summary": "{\n  \"name\": \"df_merge\",\n  \"rows\": 782,\n  \"fields\": [\n    {\n      \"column\": \"Happiness Score\",\n      \"properties\": {\n        \"dtype\": \"number\",\n        \"std\": 1.1274564601550123,\n        \"min\": 2.69300007820129,\n        \"max\": 7.769,\n        \"num_unique_values\": 716,\n        \"samples\": [\n          6.965,\n          5.192,\n          7.343\n        ],\n        \"semantic_type\": \"\",\n        \"description\": \"\"\n      }\n    },\n    {\n      \"column\": \"Economy (GDP per Capita)\",\n      \"properties\": {\n        \"dtype\": \"number\",\n        \"std\": 0.4073401312898192,\n        \"min\": 0.0,\n        \"max\": 2.096,\n        \"num_unique_values\": 742,\n        \"samples\": [\n          1.32792,\n          0.872001945972443,\n          1.27964\n        ],\n        \"semantic_type\": \"\",\n        \"description\": \"\"\n      }\n    },\n    {\n      \"column\": \"Family\",\n      \"properties\": {\n        \"dtype\": \"number\",\n        \"std\": 0.3295483193342901,\n        \"min\": 0.0,\n        \"max\": 1.644,\n        \"num_unique_values\": 732,\n        \"samples\": [\n          0.68093,\n          1.522,\n          1.191\n        ],\n        \"semantic_type\": \"\",\n        \"description\": \"\"\n      }\n    },\n    {\n      \"column\": \"Health (Life Expectancy)\",\n      \"properties\": {\n        \"dtype\": \"number\",\n        \"std\": 0.24830864037976177,\n        \"min\": 0.0,\n        \"max\": 1.141,\n        \"num_unique_values\": 705,\n        \"samples\": [\n          0.501180469989777,\n          0.89533,\n          0.91894\n        ],\n        \"semantic_type\": \"\",\n        \"description\": \"\"\n      }\n    },\n    {\n      \"column\": \"Freedom\",\n      \"properties\": {\n        \"dtype\": \"number\",\n        \"std\": 0.15288042062896515,\n        \"min\": 0.0,\n        \"max\": 0.724,\n        \"num_unique_values\": 697,\n        \"samples\": [\n          0.49553,\n          0.42483,\n          0.282\n        ],\n        \"semantic_type\": \"\",\n        \"description\": \"\"\n      }\n    },\n    {\n      \"column\": \"Trust (Government Corruption)\",\n      \"properties\": {\n        \"dtype\": \"number\",\n        \"std\": 0.10574868165319598,\n        \"min\": 0.0,\n        \"max\": 0.55191,\n        \"num_unique_values\": 636,\n        \"samples\": [\n          0.10339,\n          0.0638292357325554,\n          0.321\n        ],\n        \"semantic_type\": \"\",\n        \"description\": \"\"\n      }\n    },\n    {\n      \"column\": \"Generosity\",\n      \"properties\": {\n        \"dtype\": \"number\",\n        \"std\": 0.12232074871938416,\n        \"min\": 0.0,\n        \"max\": 0.838075160980225,\n        \"num_unique_values\": 664,\n        \"samples\": [\n          0.152073666453362,\n          0.0522638224065304,\n          0.13656\n        ],\n        \"semantic_type\": \"\",\n        \"description\": \"\"\n      }\n    },\n    {\n      \"column\": \"Ano\",\n      \"properties\": {\n        \"dtype\": \"number\",\n        \"std\": 1,\n        \"min\": 2015,\n        \"max\": 2019,\n        \"num_unique_values\": 5,\n        \"samples\": [\n          2016,\n          2019,\n          2017\n        ],\n        \"semantic_type\": \"\",\n        \"description\": \"\"\n      }\n    },\n    {\n      \"column\": \"Country Code\",\n      \"properties\": {\n        \"dtype\": \"number\",\n        \"std\": 49,\n        \"min\": 1,\n        \"max\": 170,\n        \"num_unique_values\": 170,\n        \"samples\": [\n          32,\n          38,\n          34\n        ],\n        \"semantic_type\": \"\",\n        \"description\": \"\"\n      }\n    }\n  ]\n}"
            }
          },
          "metadata": {},
          "execution_count": 65
        }
      ]
    },
    {
      "cell_type": "code",
      "source": [
        "df = df_merge"
      ],
      "metadata": {
        "id": "4P40OPlSEhHH"
      },
      "execution_count": 66,
      "outputs": []
    },
    {
      "cell_type": "code",
      "source": [
        "preditores = df[['Economy (GDP per Capita)','Trust (Government Corruption)', 'Happiness Score']] # Selecionando as variáveis que queremos correlacionar\n",
        "target = df['Health (Life Expectancy)'] # Variável principal"
      ],
      "metadata": {
        "id": "wbL7LsJMEsa0"
      },
      "execution_count": 67,
      "outputs": []
    },
    {
      "cell_type": "code",
      "source": [
        "medidas_pred = df[['Economy (GDP per Capita)','Trust (Government Corruption)', 'Happiness Score']].describe()\n",
        "medidas_target = df['Health (Life Expectancy)'].describe()"
      ],
      "metadata": {
        "id": "nOOyIpm8G3h9"
      },
      "execution_count": 68,
      "outputs": []
    },
    {
      "cell_type": "code",
      "source": [
        "# Descrevendo características dos preditores\n",
        "medidas_pred"
      ],
      "metadata": {
        "colab": {
          "base_uri": "https://localhost:8080/",
          "height": 300
        },
        "id": "7hywDm1NG_RM",
        "outputId": "5b0352a0-7cf8-4484-ce67-701251a75628"
      },
      "execution_count": 69,
      "outputs": [
        {
          "output_type": "execute_result",
          "data": {
            "text/plain": [
              "       Economy (GDP per Capita)  Trust (Government Corruption)  \\\n",
              "count                782.000000                     782.000000   \n",
              "mean                   0.916047                       0.125436   \n",
              "std                    0.407340                       0.105749   \n",
              "min                    0.000000                       0.000000   \n",
              "25%                    0.606500                       0.054250   \n",
              "50%                    0.982205                       0.091033   \n",
              "75%                    1.236187                       0.155861   \n",
              "max                    2.096000                       0.551910   \n",
              "\n",
              "       Happiness Score  \n",
              "count       782.000000  \n",
              "mean          5.379018  \n",
              "std           1.127456  \n",
              "min           2.693000  \n",
              "25%           4.509750  \n",
              "50%           5.322000  \n",
              "75%           6.189500  \n",
              "max           7.769000  "
            ],
            "text/html": [
              "\n",
              "  <div id=\"df-910e76e5-a226-4808-8d43-184466e5c8b7\" class=\"colab-df-container\">\n",
              "    <div>\n",
              "<style scoped>\n",
              "    .dataframe tbody tr th:only-of-type {\n",
              "        vertical-align: middle;\n",
              "    }\n",
              "\n",
              "    .dataframe tbody tr th {\n",
              "        vertical-align: top;\n",
              "    }\n",
              "\n",
              "    .dataframe thead th {\n",
              "        text-align: right;\n",
              "    }\n",
              "</style>\n",
              "<table border=\"1\" class=\"dataframe\">\n",
              "  <thead>\n",
              "    <tr style=\"text-align: right;\">\n",
              "      <th></th>\n",
              "      <th>Economy (GDP per Capita)</th>\n",
              "      <th>Trust (Government Corruption)</th>\n",
              "      <th>Happiness Score</th>\n",
              "    </tr>\n",
              "  </thead>\n",
              "  <tbody>\n",
              "    <tr>\n",
              "      <th>count</th>\n",
              "      <td>782.000000</td>\n",
              "      <td>782.000000</td>\n",
              "      <td>782.000000</td>\n",
              "    </tr>\n",
              "    <tr>\n",
              "      <th>mean</th>\n",
              "      <td>0.916047</td>\n",
              "      <td>0.125436</td>\n",
              "      <td>5.379018</td>\n",
              "    </tr>\n",
              "    <tr>\n",
              "      <th>std</th>\n",
              "      <td>0.407340</td>\n",
              "      <td>0.105749</td>\n",
              "      <td>1.127456</td>\n",
              "    </tr>\n",
              "    <tr>\n",
              "      <th>min</th>\n",
              "      <td>0.000000</td>\n",
              "      <td>0.000000</td>\n",
              "      <td>2.693000</td>\n",
              "    </tr>\n",
              "    <tr>\n",
              "      <th>25%</th>\n",
              "      <td>0.606500</td>\n",
              "      <td>0.054250</td>\n",
              "      <td>4.509750</td>\n",
              "    </tr>\n",
              "    <tr>\n",
              "      <th>50%</th>\n",
              "      <td>0.982205</td>\n",
              "      <td>0.091033</td>\n",
              "      <td>5.322000</td>\n",
              "    </tr>\n",
              "    <tr>\n",
              "      <th>75%</th>\n",
              "      <td>1.236187</td>\n",
              "      <td>0.155861</td>\n",
              "      <td>6.189500</td>\n",
              "    </tr>\n",
              "    <tr>\n",
              "      <th>max</th>\n",
              "      <td>2.096000</td>\n",
              "      <td>0.551910</td>\n",
              "      <td>7.769000</td>\n",
              "    </tr>\n",
              "  </tbody>\n",
              "</table>\n",
              "</div>\n",
              "    <div class=\"colab-df-buttons\">\n",
              "\n",
              "  <div class=\"colab-df-container\">\n",
              "    <button class=\"colab-df-convert\" onclick=\"convertToInteractive('df-910e76e5-a226-4808-8d43-184466e5c8b7')\"\n",
              "            title=\"Convert this dataframe to an interactive table.\"\n",
              "            style=\"display:none;\">\n",
              "\n",
              "  <svg xmlns=\"http://www.w3.org/2000/svg\" height=\"24px\" viewBox=\"0 -960 960 960\">\n",
              "    <path d=\"M120-120v-720h720v720H120Zm60-500h600v-160H180v160Zm220 220h160v-160H400v160Zm0 220h160v-160H400v160ZM180-400h160v-160H180v160Zm440 0h160v-160H620v160ZM180-180h160v-160H180v160Zm440 0h160v-160H620v160Z\"/>\n",
              "  </svg>\n",
              "    </button>\n",
              "\n",
              "  <style>\n",
              "    .colab-df-container {\n",
              "      display:flex;\n",
              "      gap: 12px;\n",
              "    }\n",
              "\n",
              "    .colab-df-convert {\n",
              "      background-color: #E8F0FE;\n",
              "      border: none;\n",
              "      border-radius: 50%;\n",
              "      cursor: pointer;\n",
              "      display: none;\n",
              "      fill: #1967D2;\n",
              "      height: 32px;\n",
              "      padding: 0 0 0 0;\n",
              "      width: 32px;\n",
              "    }\n",
              "\n",
              "    .colab-df-convert:hover {\n",
              "      background-color: #E2EBFA;\n",
              "      box-shadow: 0px 1px 2px rgba(60, 64, 67, 0.3), 0px 1px 3px 1px rgba(60, 64, 67, 0.15);\n",
              "      fill: #174EA6;\n",
              "    }\n",
              "\n",
              "    .colab-df-buttons div {\n",
              "      margin-bottom: 4px;\n",
              "    }\n",
              "\n",
              "    [theme=dark] .colab-df-convert {\n",
              "      background-color: #3B4455;\n",
              "      fill: #D2E3FC;\n",
              "    }\n",
              "\n",
              "    [theme=dark] .colab-df-convert:hover {\n",
              "      background-color: #434B5C;\n",
              "      box-shadow: 0px 1px 3px 1px rgba(0, 0, 0, 0.15);\n",
              "      filter: drop-shadow(0px 1px 2px rgba(0, 0, 0, 0.3));\n",
              "      fill: #FFFFFF;\n",
              "    }\n",
              "  </style>\n",
              "\n",
              "    <script>\n",
              "      const buttonEl =\n",
              "        document.querySelector('#df-910e76e5-a226-4808-8d43-184466e5c8b7 button.colab-df-convert');\n",
              "      buttonEl.style.display =\n",
              "        google.colab.kernel.accessAllowed ? 'block' : 'none';\n",
              "\n",
              "      async function convertToInteractive(key) {\n",
              "        const element = document.querySelector('#df-910e76e5-a226-4808-8d43-184466e5c8b7');\n",
              "        const dataTable =\n",
              "          await google.colab.kernel.invokeFunction('convertToInteractive',\n",
              "                                                    [key], {});\n",
              "        if (!dataTable) return;\n",
              "\n",
              "        const docLinkHtml = 'Like what you see? Visit the ' +\n",
              "          '<a target=\"_blank\" href=https://colab.research.google.com/notebooks/data_table.ipynb>data table notebook</a>'\n",
              "          + ' to learn more about interactive tables.';\n",
              "        element.innerHTML = '';\n",
              "        dataTable['output_type'] = 'display_data';\n",
              "        await google.colab.output.renderOutput(dataTable, element);\n",
              "        const docLink = document.createElement('div');\n",
              "        docLink.innerHTML = docLinkHtml;\n",
              "        element.appendChild(docLink);\n",
              "      }\n",
              "    </script>\n",
              "  </div>\n",
              "\n",
              "\n",
              "<div id=\"df-2eaa9ab4-ad3d-44d3-9468-26d537a85cc5\">\n",
              "  <button class=\"colab-df-quickchart\" onclick=\"quickchart('df-2eaa9ab4-ad3d-44d3-9468-26d537a85cc5')\"\n",
              "            title=\"Suggest charts\"\n",
              "            style=\"display:none;\">\n",
              "\n",
              "<svg xmlns=\"http://www.w3.org/2000/svg\" height=\"24px\"viewBox=\"0 0 24 24\"\n",
              "     width=\"24px\">\n",
              "    <g>\n",
              "        <path d=\"M19 3H5c-1.1 0-2 .9-2 2v14c0 1.1.9 2 2 2h14c1.1 0 2-.9 2-2V5c0-1.1-.9-2-2-2zM9 17H7v-7h2v7zm4 0h-2V7h2v10zm4 0h-2v-4h2v4z\"/>\n",
              "    </g>\n",
              "</svg>\n",
              "  </button>\n",
              "\n",
              "<style>\n",
              "  .colab-df-quickchart {\n",
              "      --bg-color: #E8F0FE;\n",
              "      --fill-color: #1967D2;\n",
              "      --hover-bg-color: #E2EBFA;\n",
              "      --hover-fill-color: #174EA6;\n",
              "      --disabled-fill-color: #AAA;\n",
              "      --disabled-bg-color: #DDD;\n",
              "  }\n",
              "\n",
              "  [theme=dark] .colab-df-quickchart {\n",
              "      --bg-color: #3B4455;\n",
              "      --fill-color: #D2E3FC;\n",
              "      --hover-bg-color: #434B5C;\n",
              "      --hover-fill-color: #FFFFFF;\n",
              "      --disabled-bg-color: #3B4455;\n",
              "      --disabled-fill-color: #666;\n",
              "  }\n",
              "\n",
              "  .colab-df-quickchart {\n",
              "    background-color: var(--bg-color);\n",
              "    border: none;\n",
              "    border-radius: 50%;\n",
              "    cursor: pointer;\n",
              "    display: none;\n",
              "    fill: var(--fill-color);\n",
              "    height: 32px;\n",
              "    padding: 0;\n",
              "    width: 32px;\n",
              "  }\n",
              "\n",
              "  .colab-df-quickchart:hover {\n",
              "    background-color: var(--hover-bg-color);\n",
              "    box-shadow: 0 1px 2px rgba(60, 64, 67, 0.3), 0 1px 3px 1px rgba(60, 64, 67, 0.15);\n",
              "    fill: var(--button-hover-fill-color);\n",
              "  }\n",
              "\n",
              "  .colab-df-quickchart-complete:disabled,\n",
              "  .colab-df-quickchart-complete:disabled:hover {\n",
              "    background-color: var(--disabled-bg-color);\n",
              "    fill: var(--disabled-fill-color);\n",
              "    box-shadow: none;\n",
              "  }\n",
              "\n",
              "  .colab-df-spinner {\n",
              "    border: 2px solid var(--fill-color);\n",
              "    border-color: transparent;\n",
              "    border-bottom-color: var(--fill-color);\n",
              "    animation:\n",
              "      spin 1s steps(1) infinite;\n",
              "  }\n",
              "\n",
              "  @keyframes spin {\n",
              "    0% {\n",
              "      border-color: transparent;\n",
              "      border-bottom-color: var(--fill-color);\n",
              "      border-left-color: var(--fill-color);\n",
              "    }\n",
              "    20% {\n",
              "      border-color: transparent;\n",
              "      border-left-color: var(--fill-color);\n",
              "      border-top-color: var(--fill-color);\n",
              "    }\n",
              "    30% {\n",
              "      border-color: transparent;\n",
              "      border-left-color: var(--fill-color);\n",
              "      border-top-color: var(--fill-color);\n",
              "      border-right-color: var(--fill-color);\n",
              "    }\n",
              "    40% {\n",
              "      border-color: transparent;\n",
              "      border-right-color: var(--fill-color);\n",
              "      border-top-color: var(--fill-color);\n",
              "    }\n",
              "    60% {\n",
              "      border-color: transparent;\n",
              "      border-right-color: var(--fill-color);\n",
              "    }\n",
              "    80% {\n",
              "      border-color: transparent;\n",
              "      border-right-color: var(--fill-color);\n",
              "      border-bottom-color: var(--fill-color);\n",
              "    }\n",
              "    90% {\n",
              "      border-color: transparent;\n",
              "      border-bottom-color: var(--fill-color);\n",
              "    }\n",
              "  }\n",
              "</style>\n",
              "\n",
              "  <script>\n",
              "    async function quickchart(key) {\n",
              "      const quickchartButtonEl =\n",
              "        document.querySelector('#' + key + ' button');\n",
              "      quickchartButtonEl.disabled = true;  // To prevent multiple clicks.\n",
              "      quickchartButtonEl.classList.add('colab-df-spinner');\n",
              "      try {\n",
              "        const charts = await google.colab.kernel.invokeFunction(\n",
              "            'suggestCharts', [key], {});\n",
              "      } catch (error) {\n",
              "        console.error('Error during call to suggestCharts:', error);\n",
              "      }\n",
              "      quickchartButtonEl.classList.remove('colab-df-spinner');\n",
              "      quickchartButtonEl.classList.add('colab-df-quickchart-complete');\n",
              "    }\n",
              "    (() => {\n",
              "      let quickchartButtonEl =\n",
              "        document.querySelector('#df-2eaa9ab4-ad3d-44d3-9468-26d537a85cc5 button');\n",
              "      quickchartButtonEl.style.display =\n",
              "        google.colab.kernel.accessAllowed ? 'block' : 'none';\n",
              "    })();\n",
              "  </script>\n",
              "</div>\n",
              "\n",
              "  <div id=\"id_e3d51a94-20c6-46e0-9a01-c50ea562042b\">\n",
              "    <style>\n",
              "      .colab-df-generate {\n",
              "        background-color: #E8F0FE;\n",
              "        border: none;\n",
              "        border-radius: 50%;\n",
              "        cursor: pointer;\n",
              "        display: none;\n",
              "        fill: #1967D2;\n",
              "        height: 32px;\n",
              "        padding: 0 0 0 0;\n",
              "        width: 32px;\n",
              "      }\n",
              "\n",
              "      .colab-df-generate:hover {\n",
              "        background-color: #E2EBFA;\n",
              "        box-shadow: 0px 1px 2px rgba(60, 64, 67, 0.3), 0px 1px 3px 1px rgba(60, 64, 67, 0.15);\n",
              "        fill: #174EA6;\n",
              "      }\n",
              "\n",
              "      [theme=dark] .colab-df-generate {\n",
              "        background-color: #3B4455;\n",
              "        fill: #D2E3FC;\n",
              "      }\n",
              "\n",
              "      [theme=dark] .colab-df-generate:hover {\n",
              "        background-color: #434B5C;\n",
              "        box-shadow: 0px 1px 3px 1px rgba(0, 0, 0, 0.15);\n",
              "        filter: drop-shadow(0px 1px 2px rgba(0, 0, 0, 0.3));\n",
              "        fill: #FFFFFF;\n",
              "      }\n",
              "    </style>\n",
              "    <button class=\"colab-df-generate\" onclick=\"generateWithVariable('medidas_pred')\"\n",
              "            title=\"Generate code using this dataframe.\"\n",
              "            style=\"display:none;\">\n",
              "\n",
              "  <svg xmlns=\"http://www.w3.org/2000/svg\" height=\"24px\"viewBox=\"0 0 24 24\"\n",
              "       width=\"24px\">\n",
              "    <path d=\"M7,19H8.4L18.45,9,17,7.55,7,17.6ZM5,21V16.75L18.45,3.32a2,2,0,0,1,2.83,0l1.4,1.43a1.91,1.91,0,0,1,.58,1.4,1.91,1.91,0,0,1-.58,1.4L9.25,21ZM18.45,9,17,7.55Zm-12,3A5.31,5.31,0,0,0,4.9,8.1,5.31,5.31,0,0,0,1,6.5,5.31,5.31,0,0,0,4.9,4.9,5.31,5.31,0,0,0,6.5,1,5.31,5.31,0,0,0,8.1,4.9,5.31,5.31,0,0,0,12,6.5,5.46,5.46,0,0,0,6.5,12Z\"/>\n",
              "  </svg>\n",
              "    </button>\n",
              "    <script>\n",
              "      (() => {\n",
              "      const buttonEl =\n",
              "        document.querySelector('#id_e3d51a94-20c6-46e0-9a01-c50ea562042b button.colab-df-generate');\n",
              "      buttonEl.style.display =\n",
              "        google.colab.kernel.accessAllowed ? 'block' : 'none';\n",
              "\n",
              "      buttonEl.onclick = () => {\n",
              "        google.colab.notebook.generateWithVariable('medidas_pred');\n",
              "      }\n",
              "      })();\n",
              "    </script>\n",
              "  </div>\n",
              "\n",
              "    </div>\n",
              "  </div>\n"
            ],
            "application/vnd.google.colaboratory.intrinsic+json": {
              "type": "dataframe",
              "variable_name": "medidas_pred",
              "summary": "{\n  \"name\": \"medidas_pred\",\n  \"rows\": 8,\n  \"fields\": [\n    {\n      \"column\": \"Economy (GDP per Capita)\",\n      \"properties\": {\n        \"dtype\": \"number\",\n        \"std\": 276.1640631697047,\n        \"min\": 0.0,\n        \"max\": 782.0,\n        \"num_unique_values\": 8,\n        \"samples\": [\n          0.9160474824829717,\n          0.9822047088146211,\n          782.0\n        ],\n        \"semantic_type\": \"\",\n        \"description\": \"\"\n      }\n    },\n    {\n      \"column\": \"Trust (Government Corruption)\",\n      \"properties\": {\n        \"dtype\": \"number\",\n        \"std\": 276.42404059990685,\n        \"min\": 0.0,\n        \"max\": 782.0,\n        \"num_unique_values\": 8,\n        \"samples\": [\n          0.12543561357358715,\n          0.0910329567193985,\n          782.0\n        ],\n        \"semantic_type\": \"\",\n        \"description\": \"\"\n      }\n    },\n    {\n      \"column\": \"Happiness Score\",\n      \"properties\": {\n        \"dtype\": \"number\",\n        \"std\": 274.82013719971195,\n        \"min\": 1.1274564601550123,\n        \"max\": 782.0,\n        \"num_unique_values\": 8,\n        \"samples\": [\n          5.379017902998669,\n          5.322,\n          782.0\n        ],\n        \"semantic_type\": \"\",\n        \"description\": \"\"\n      }\n    }\n  ]\n}"
            }
          },
          "metadata": {},
          "execution_count": 69
        }
      ]
    },
    {
      "cell_type": "code",
      "source": [
        "# Descrevendo características do target\n",
        "medidas_target"
      ],
      "metadata": {
        "colab": {
          "base_uri": "https://localhost:8080/"
        },
        "id": "iVmw0cBdHMDN",
        "outputId": "c593a069-6d72-46ff-fde6-80d752cc33ec"
      },
      "execution_count": 70,
      "outputs": [
        {
          "output_type": "execute_result",
          "data": {
            "text/plain": [
              "count    782.000000\n",
              "mean       0.612416\n",
              "std        0.248309\n",
              "min        0.000000\n",
              "25%        0.440183\n",
              "50%        0.647310\n",
              "75%        0.808000\n",
              "max        1.141000\n",
              "Name: Health (Life Expectancy), dtype: float64"
            ]
          },
          "metadata": {},
          "execution_count": 70
        }
      ]
    },
    {
      "cell_type": "code",
      "source": [
        "# Percebemos que a coluna de GPD e Happiness Score não estão na mesma escala de Trust\n",
        "# Vamos implementar a normalização para deixar na mesma escala todos os preditores\n",
        "\n",
        "scaler = MinMaxScaler()\n",
        "preditores.copy()\n",
        "\n",
        "PIB_reshape = preditores['Economy (GDP per Capita)'].values.reshape(-1,1) # Tipando o array para o formato unidimensional\n",
        "PIB_reshape = scaler.fit_transform(PIB_reshape)\n"
      ],
      "metadata": {
        "id": "w79cJTKjGoij"
      },
      "execution_count": 71,
      "outputs": []
    },
    {
      "cell_type": "code",
      "source": [
        "hap_reshape = preditores['Happiness Score'].values.reshape(-1,1) # Tipando para o formato unidimensional\n",
        "hap_reshape = scaler.fit_transform(hap_reshape)"
      ],
      "metadata": {
        "id": "v1I6aTwg9A9A"
      },
      "execution_count": 72,
      "outputs": []
    },
    {
      "cell_type": "code",
      "source": [
        "target_reshape = target.values.reshape(-1,1) # Tipando o target para o formato unidimensional\n",
        "target_reshape = scaler.fit_transform(target_reshape)\n",
        "target = target_reshape"
      ],
      "metadata": {
        "id": "UsE6_SGZkEM0"
      },
      "execution_count": 73,
      "outputs": []
    },
    {
      "cell_type": "code",
      "source": [
        "preditores['GPD Normalized'] = PIB_reshape # Criando novas colunas para receber os dados normalizados\n",
        "preditores['Happiness Normalized'] = hap_reshape"
      ],
      "metadata": {
        "colab": {
          "base_uri": "https://localhost:8080/"
        },
        "id": "cbwUSWvK9hwH",
        "outputId": "76efb383-0a9f-4bd3-815d-febe10493905"
      },
      "execution_count": 74,
      "outputs": [
        {
          "output_type": "stream",
          "name": "stderr",
          "text": [
            "<ipython-input-74-7ad02e2fb528>:1: SettingWithCopyWarning: \n",
            "A value is trying to be set on a copy of a slice from a DataFrame.\n",
            "Try using .loc[row_indexer,col_indexer] = value instead\n",
            "\n",
            "See the caveats in the documentation: https://pandas.pydata.org/pandas-docs/stable/user_guide/indexing.html#returning-a-view-versus-a-copy\n",
            "  preditores['GPD Normalized'] = PIB_reshape # Criando novas colunas para receber os dados normalizados\n",
            "<ipython-input-74-7ad02e2fb528>:2: SettingWithCopyWarning: \n",
            "A value is trying to be set on a copy of a slice from a DataFrame.\n",
            "Try using .loc[row_indexer,col_indexer] = value instead\n",
            "\n",
            "See the caveats in the documentation: https://pandas.pydata.org/pandas-docs/stable/user_guide/indexing.html#returning-a-view-versus-a-copy\n",
            "  preditores['Happiness Normalized'] = hap_reshape\n"
          ]
        }
      ]
    },
    {
      "cell_type": "code",
      "source": [
        "preditores.drop(columns=['Happiness Score','Economy (GDP per Capita)'], inplace=True) # Deletando colunas antigas"
      ],
      "metadata": {
        "colab": {
          "base_uri": "https://localhost:8080/"
        },
        "id": "xOgLg0Sr9twf",
        "outputId": "1b6df4e2-2002-44fb-e67a-be5febe6e542"
      },
      "execution_count": 75,
      "outputs": [
        {
          "output_type": "stream",
          "name": "stderr",
          "text": [
            "<ipython-input-75-6070099273d0>:1: SettingWithCopyWarning: \n",
            "A value is trying to be set on a copy of a slice from a DataFrame\n",
            "\n",
            "See the caveats in the documentation: https://pandas.pydata.org/pandas-docs/stable/user_guide/indexing.html#returning-a-view-versus-a-copy\n",
            "  preditores.drop(columns=['Happiness Score','Economy (GDP per Capita)'], inplace=True) # Deletando colunas antigas\n"
          ]
        }
      ]
    },
    {
      "cell_type": "code",
      "source": [
        "preditores"
      ],
      "metadata": {
        "id": "CnPknzOOH-Bb",
        "colab": {
          "base_uri": "https://localhost:8080/",
          "height": 424
        },
        "outputId": "96842b6c-611f-4a19-a5db-9d2b03dc4269"
      },
      "execution_count": 76,
      "outputs": [
        {
          "output_type": "execute_result",
          "data": {
            "text/plain": [
              "     Trust (Government Corruption)  GPD Normalized  Happiness Normalized\n",
              "0                         0.419780        0.666274              0.964145\n",
              "1                         0.412030        0.728688              0.948779\n",
              "2                         0.367007        0.746651              0.945823\n",
              "3                         0.357000        0.677481              0.944444\n",
              "4                         0.343000        0.692748              0.943065\n",
              "..                             ...             ...                   ...\n",
              "777                       0.016000        0.587309              0.689322\n",
              "778                       0.154000        0.586355              0.618991\n",
              "779                       0.162000        0.602576              0.595942\n",
              "780                       0.034000        0.468989              0.508471\n",
              "781                       0.167000        0.146947              0.359141\n",
              "\n",
              "[782 rows x 3 columns]"
            ],
            "text/html": [
              "\n",
              "  <div id=\"df-7049a73b-3976-4700-a06e-a6b374ee7f1a\" class=\"colab-df-container\">\n",
              "    <div>\n",
              "<style scoped>\n",
              "    .dataframe tbody tr th:only-of-type {\n",
              "        vertical-align: middle;\n",
              "    }\n",
              "\n",
              "    .dataframe tbody tr th {\n",
              "        vertical-align: top;\n",
              "    }\n",
              "\n",
              "    .dataframe thead th {\n",
              "        text-align: right;\n",
              "    }\n",
              "</style>\n",
              "<table border=\"1\" class=\"dataframe\">\n",
              "  <thead>\n",
              "    <tr style=\"text-align: right;\">\n",
              "      <th></th>\n",
              "      <th>Trust (Government Corruption)</th>\n",
              "      <th>GPD Normalized</th>\n",
              "      <th>Happiness Normalized</th>\n",
              "    </tr>\n",
              "  </thead>\n",
              "  <tbody>\n",
              "    <tr>\n",
              "      <th>0</th>\n",
              "      <td>0.419780</td>\n",
              "      <td>0.666274</td>\n",
              "      <td>0.964145</td>\n",
              "    </tr>\n",
              "    <tr>\n",
              "      <th>1</th>\n",
              "      <td>0.412030</td>\n",
              "      <td>0.728688</td>\n",
              "      <td>0.948779</td>\n",
              "    </tr>\n",
              "    <tr>\n",
              "      <th>2</th>\n",
              "      <td>0.367007</td>\n",
              "      <td>0.746651</td>\n",
              "      <td>0.945823</td>\n",
              "    </tr>\n",
              "    <tr>\n",
              "      <th>3</th>\n",
              "      <td>0.357000</td>\n",
              "      <td>0.677481</td>\n",
              "      <td>0.944444</td>\n",
              "    </tr>\n",
              "    <tr>\n",
              "      <th>4</th>\n",
              "      <td>0.343000</td>\n",
              "      <td>0.692748</td>\n",
              "      <td>0.943065</td>\n",
              "    </tr>\n",
              "    <tr>\n",
              "      <th>...</th>\n",
              "      <td>...</td>\n",
              "      <td>...</td>\n",
              "      <td>...</td>\n",
              "    </tr>\n",
              "    <tr>\n",
              "      <th>777</th>\n",
              "      <td>0.016000</td>\n",
              "      <td>0.587309</td>\n",
              "      <td>0.689322</td>\n",
              "    </tr>\n",
              "    <tr>\n",
              "      <th>778</th>\n",
              "      <td>0.154000</td>\n",
              "      <td>0.586355</td>\n",
              "      <td>0.618991</td>\n",
              "    </tr>\n",
              "    <tr>\n",
              "      <th>779</th>\n",
              "      <td>0.162000</td>\n",
              "      <td>0.602576</td>\n",
              "      <td>0.595942</td>\n",
              "    </tr>\n",
              "    <tr>\n",
              "      <th>780</th>\n",
              "      <td>0.034000</td>\n",
              "      <td>0.468989</td>\n",
              "      <td>0.508471</td>\n",
              "    </tr>\n",
              "    <tr>\n",
              "      <th>781</th>\n",
              "      <td>0.167000</td>\n",
              "      <td>0.146947</td>\n",
              "      <td>0.359141</td>\n",
              "    </tr>\n",
              "  </tbody>\n",
              "</table>\n",
              "<p>782 rows × 3 columns</p>\n",
              "</div>\n",
              "    <div class=\"colab-df-buttons\">\n",
              "\n",
              "  <div class=\"colab-df-container\">\n",
              "    <button class=\"colab-df-convert\" onclick=\"convertToInteractive('df-7049a73b-3976-4700-a06e-a6b374ee7f1a')\"\n",
              "            title=\"Convert this dataframe to an interactive table.\"\n",
              "            style=\"display:none;\">\n",
              "\n",
              "  <svg xmlns=\"http://www.w3.org/2000/svg\" height=\"24px\" viewBox=\"0 -960 960 960\">\n",
              "    <path d=\"M120-120v-720h720v720H120Zm60-500h600v-160H180v160Zm220 220h160v-160H400v160Zm0 220h160v-160H400v160ZM180-400h160v-160H180v160Zm440 0h160v-160H620v160ZM180-180h160v-160H180v160Zm440 0h160v-160H620v160Z\"/>\n",
              "  </svg>\n",
              "    </button>\n",
              "\n",
              "  <style>\n",
              "    .colab-df-container {\n",
              "      display:flex;\n",
              "      gap: 12px;\n",
              "    }\n",
              "\n",
              "    .colab-df-convert {\n",
              "      background-color: #E8F0FE;\n",
              "      border: none;\n",
              "      border-radius: 50%;\n",
              "      cursor: pointer;\n",
              "      display: none;\n",
              "      fill: #1967D2;\n",
              "      height: 32px;\n",
              "      padding: 0 0 0 0;\n",
              "      width: 32px;\n",
              "    }\n",
              "\n",
              "    .colab-df-convert:hover {\n",
              "      background-color: #E2EBFA;\n",
              "      box-shadow: 0px 1px 2px rgba(60, 64, 67, 0.3), 0px 1px 3px 1px rgba(60, 64, 67, 0.15);\n",
              "      fill: #174EA6;\n",
              "    }\n",
              "\n",
              "    .colab-df-buttons div {\n",
              "      margin-bottom: 4px;\n",
              "    }\n",
              "\n",
              "    [theme=dark] .colab-df-convert {\n",
              "      background-color: #3B4455;\n",
              "      fill: #D2E3FC;\n",
              "    }\n",
              "\n",
              "    [theme=dark] .colab-df-convert:hover {\n",
              "      background-color: #434B5C;\n",
              "      box-shadow: 0px 1px 3px 1px rgba(0, 0, 0, 0.15);\n",
              "      filter: drop-shadow(0px 1px 2px rgba(0, 0, 0, 0.3));\n",
              "      fill: #FFFFFF;\n",
              "    }\n",
              "  </style>\n",
              "\n",
              "    <script>\n",
              "      const buttonEl =\n",
              "        document.querySelector('#df-7049a73b-3976-4700-a06e-a6b374ee7f1a button.colab-df-convert');\n",
              "      buttonEl.style.display =\n",
              "        google.colab.kernel.accessAllowed ? 'block' : 'none';\n",
              "\n",
              "      async function convertToInteractive(key) {\n",
              "        const element = document.querySelector('#df-7049a73b-3976-4700-a06e-a6b374ee7f1a');\n",
              "        const dataTable =\n",
              "          await google.colab.kernel.invokeFunction('convertToInteractive',\n",
              "                                                    [key], {});\n",
              "        if (!dataTable) return;\n",
              "\n",
              "        const docLinkHtml = 'Like what you see? Visit the ' +\n",
              "          '<a target=\"_blank\" href=https://colab.research.google.com/notebooks/data_table.ipynb>data table notebook</a>'\n",
              "          + ' to learn more about interactive tables.';\n",
              "        element.innerHTML = '';\n",
              "        dataTable['output_type'] = 'display_data';\n",
              "        await google.colab.output.renderOutput(dataTable, element);\n",
              "        const docLink = document.createElement('div');\n",
              "        docLink.innerHTML = docLinkHtml;\n",
              "        element.appendChild(docLink);\n",
              "      }\n",
              "    </script>\n",
              "  </div>\n",
              "\n",
              "\n",
              "<div id=\"df-f8409933-9a4a-4f5a-b752-4aa5cf2e545c\">\n",
              "  <button class=\"colab-df-quickchart\" onclick=\"quickchart('df-f8409933-9a4a-4f5a-b752-4aa5cf2e545c')\"\n",
              "            title=\"Suggest charts\"\n",
              "            style=\"display:none;\">\n",
              "\n",
              "<svg xmlns=\"http://www.w3.org/2000/svg\" height=\"24px\"viewBox=\"0 0 24 24\"\n",
              "     width=\"24px\">\n",
              "    <g>\n",
              "        <path d=\"M19 3H5c-1.1 0-2 .9-2 2v14c0 1.1.9 2 2 2h14c1.1 0 2-.9 2-2V5c0-1.1-.9-2-2-2zM9 17H7v-7h2v7zm4 0h-2V7h2v10zm4 0h-2v-4h2v4z\"/>\n",
              "    </g>\n",
              "</svg>\n",
              "  </button>\n",
              "\n",
              "<style>\n",
              "  .colab-df-quickchart {\n",
              "      --bg-color: #E8F0FE;\n",
              "      --fill-color: #1967D2;\n",
              "      --hover-bg-color: #E2EBFA;\n",
              "      --hover-fill-color: #174EA6;\n",
              "      --disabled-fill-color: #AAA;\n",
              "      --disabled-bg-color: #DDD;\n",
              "  }\n",
              "\n",
              "  [theme=dark] .colab-df-quickchart {\n",
              "      --bg-color: #3B4455;\n",
              "      --fill-color: #D2E3FC;\n",
              "      --hover-bg-color: #434B5C;\n",
              "      --hover-fill-color: #FFFFFF;\n",
              "      --disabled-bg-color: #3B4455;\n",
              "      --disabled-fill-color: #666;\n",
              "  }\n",
              "\n",
              "  .colab-df-quickchart {\n",
              "    background-color: var(--bg-color);\n",
              "    border: none;\n",
              "    border-radius: 50%;\n",
              "    cursor: pointer;\n",
              "    display: none;\n",
              "    fill: var(--fill-color);\n",
              "    height: 32px;\n",
              "    padding: 0;\n",
              "    width: 32px;\n",
              "  }\n",
              "\n",
              "  .colab-df-quickchart:hover {\n",
              "    background-color: var(--hover-bg-color);\n",
              "    box-shadow: 0 1px 2px rgba(60, 64, 67, 0.3), 0 1px 3px 1px rgba(60, 64, 67, 0.15);\n",
              "    fill: var(--button-hover-fill-color);\n",
              "  }\n",
              "\n",
              "  .colab-df-quickchart-complete:disabled,\n",
              "  .colab-df-quickchart-complete:disabled:hover {\n",
              "    background-color: var(--disabled-bg-color);\n",
              "    fill: var(--disabled-fill-color);\n",
              "    box-shadow: none;\n",
              "  }\n",
              "\n",
              "  .colab-df-spinner {\n",
              "    border: 2px solid var(--fill-color);\n",
              "    border-color: transparent;\n",
              "    border-bottom-color: var(--fill-color);\n",
              "    animation:\n",
              "      spin 1s steps(1) infinite;\n",
              "  }\n",
              "\n",
              "  @keyframes spin {\n",
              "    0% {\n",
              "      border-color: transparent;\n",
              "      border-bottom-color: var(--fill-color);\n",
              "      border-left-color: var(--fill-color);\n",
              "    }\n",
              "    20% {\n",
              "      border-color: transparent;\n",
              "      border-left-color: var(--fill-color);\n",
              "      border-top-color: var(--fill-color);\n",
              "    }\n",
              "    30% {\n",
              "      border-color: transparent;\n",
              "      border-left-color: var(--fill-color);\n",
              "      border-top-color: var(--fill-color);\n",
              "      border-right-color: var(--fill-color);\n",
              "    }\n",
              "    40% {\n",
              "      border-color: transparent;\n",
              "      border-right-color: var(--fill-color);\n",
              "      border-top-color: var(--fill-color);\n",
              "    }\n",
              "    60% {\n",
              "      border-color: transparent;\n",
              "      border-right-color: var(--fill-color);\n",
              "    }\n",
              "    80% {\n",
              "      border-color: transparent;\n",
              "      border-right-color: var(--fill-color);\n",
              "      border-bottom-color: var(--fill-color);\n",
              "    }\n",
              "    90% {\n",
              "      border-color: transparent;\n",
              "      border-bottom-color: var(--fill-color);\n",
              "    }\n",
              "  }\n",
              "</style>\n",
              "\n",
              "  <script>\n",
              "    async function quickchart(key) {\n",
              "      const quickchartButtonEl =\n",
              "        document.querySelector('#' + key + ' button');\n",
              "      quickchartButtonEl.disabled = true;  // To prevent multiple clicks.\n",
              "      quickchartButtonEl.classList.add('colab-df-spinner');\n",
              "      try {\n",
              "        const charts = await google.colab.kernel.invokeFunction(\n",
              "            'suggestCharts', [key], {});\n",
              "      } catch (error) {\n",
              "        console.error('Error during call to suggestCharts:', error);\n",
              "      }\n",
              "      quickchartButtonEl.classList.remove('colab-df-spinner');\n",
              "      quickchartButtonEl.classList.add('colab-df-quickchart-complete');\n",
              "    }\n",
              "    (() => {\n",
              "      let quickchartButtonEl =\n",
              "        document.querySelector('#df-f8409933-9a4a-4f5a-b752-4aa5cf2e545c button');\n",
              "      quickchartButtonEl.style.display =\n",
              "        google.colab.kernel.accessAllowed ? 'block' : 'none';\n",
              "    })();\n",
              "  </script>\n",
              "</div>\n",
              "\n",
              "  <div id=\"id_56e21823-02ae-49c9-92db-35c7055137a2\">\n",
              "    <style>\n",
              "      .colab-df-generate {\n",
              "        background-color: #E8F0FE;\n",
              "        border: none;\n",
              "        border-radius: 50%;\n",
              "        cursor: pointer;\n",
              "        display: none;\n",
              "        fill: #1967D2;\n",
              "        height: 32px;\n",
              "        padding: 0 0 0 0;\n",
              "        width: 32px;\n",
              "      }\n",
              "\n",
              "      .colab-df-generate:hover {\n",
              "        background-color: #E2EBFA;\n",
              "        box-shadow: 0px 1px 2px rgba(60, 64, 67, 0.3), 0px 1px 3px 1px rgba(60, 64, 67, 0.15);\n",
              "        fill: #174EA6;\n",
              "      }\n",
              "\n",
              "      [theme=dark] .colab-df-generate {\n",
              "        background-color: #3B4455;\n",
              "        fill: #D2E3FC;\n",
              "      }\n",
              "\n",
              "      [theme=dark] .colab-df-generate:hover {\n",
              "        background-color: #434B5C;\n",
              "        box-shadow: 0px 1px 3px 1px rgba(0, 0, 0, 0.15);\n",
              "        filter: drop-shadow(0px 1px 2px rgba(0, 0, 0, 0.3));\n",
              "        fill: #FFFFFF;\n",
              "      }\n",
              "    </style>\n",
              "    <button class=\"colab-df-generate\" onclick=\"generateWithVariable('preditores')\"\n",
              "            title=\"Generate code using this dataframe.\"\n",
              "            style=\"display:none;\">\n",
              "\n",
              "  <svg xmlns=\"http://www.w3.org/2000/svg\" height=\"24px\"viewBox=\"0 0 24 24\"\n",
              "       width=\"24px\">\n",
              "    <path d=\"M7,19H8.4L18.45,9,17,7.55,7,17.6ZM5,21V16.75L18.45,3.32a2,2,0,0,1,2.83,0l1.4,1.43a1.91,1.91,0,0,1,.58,1.4,1.91,1.91,0,0,1-.58,1.4L9.25,21ZM18.45,9,17,7.55Zm-12,3A5.31,5.31,0,0,0,4.9,8.1,5.31,5.31,0,0,0,1,6.5,5.31,5.31,0,0,0,4.9,4.9,5.31,5.31,0,0,0,6.5,1,5.31,5.31,0,0,0,8.1,4.9,5.31,5.31,0,0,0,12,6.5,5.46,5.46,0,0,0,6.5,12Z\"/>\n",
              "  </svg>\n",
              "    </button>\n",
              "    <script>\n",
              "      (() => {\n",
              "      const buttonEl =\n",
              "        document.querySelector('#id_56e21823-02ae-49c9-92db-35c7055137a2 button.colab-df-generate');\n",
              "      buttonEl.style.display =\n",
              "        google.colab.kernel.accessAllowed ? 'block' : 'none';\n",
              "\n",
              "      buttonEl.onclick = () => {\n",
              "        google.colab.notebook.generateWithVariable('preditores');\n",
              "      }\n",
              "      })();\n",
              "    </script>\n",
              "  </div>\n",
              "\n",
              "    </div>\n",
              "  </div>\n"
            ],
            "application/vnd.google.colaboratory.intrinsic+json": {
              "type": "dataframe",
              "variable_name": "preditores",
              "summary": "{\n  \"name\": \"preditores\",\n  \"rows\": 782,\n  \"fields\": [\n    {\n      \"column\": \"Trust (Government Corruption)\",\n      \"properties\": {\n        \"dtype\": \"number\",\n        \"std\": 0.10574868165319598,\n        \"min\": 0.0,\n        \"max\": 0.55191,\n        \"num_unique_values\": 636,\n        \"samples\": [\n          0.10339,\n          0.0638292357325554,\n          0.321\n        ],\n        \"semantic_type\": \"\",\n        \"description\": \"\"\n      }\n    },\n    {\n      \"column\": \"GPD Normalized\",\n      \"properties\": {\n        \"dtype\": \"number\",\n        \"std\": 0.19434166569170766,\n        \"min\": 0.0,\n        \"max\": 1.0,\n        \"num_unique_values\": 742,\n        \"samples\": [\n          0.6335496183206106,\n          0.4160314627731121,\n          0.6105152671755725\n        ],\n        \"semantic_type\": \"\",\n        \"description\": \"\"\n      }\n    },\n    {\n      \"column\": \"Happiness Normalized\",\n      \"properties\": {\n        \"dtype\": \"number\",\n        \"std\": 0.22211514529643486,\n        \"min\": 0.0,\n        \"max\": 1.0,\n        \"num_unique_values\": 716,\n        \"samples\": [\n          0.841607562571613,\n          0.49231677704856536,\n          0.9160756488252576\n        ],\n        \"semantic_type\": \"\",\n        \"description\": \"\"\n      }\n    }\n  ]\n}"
            }
          },
          "metadata": {},
          "execution_count": 76
        }
      ]
    },
    {
      "cell_type": "markdown",
      "source": [
        "## Criação do Modelo de Regressão Linear"
      ],
      "metadata": {
        "id": "J57ZpI6wlWNU"
      }
    },
    {
      "cell_type": "code",
      "source": [
        "modelo = LinearRegression() # Instanciando a regressão linear"
      ],
      "metadata": {
        "id": "TyQSNv41xJSP"
      },
      "execution_count": 77,
      "outputs": []
    },
    {
      "cell_type": "code",
      "source": [
        "# Criar variáveis de treino e teste, sendo 80% treino e 20% teste\n",
        "from sklearn.model_selection import train_test_split\n",
        "x_train, x_test, y_train, y_test = train_test_split(preditores, target, test_size=0.2, random_state=1000)"
      ],
      "metadata": {
        "id": "Cfhs31zkS7OY"
      },
      "execution_count": 78,
      "outputs": []
    },
    {
      "cell_type": "code",
      "source": [
        "linear_reg = modelo.fit(x_train, y_train) # Treinando o modelo"
      ],
      "metadata": {
        "id": "OiFHvUyylMFZ"
      },
      "execution_count": 79,
      "outputs": []
    },
    {
      "cell_type": "code",
      "source": [
        "score = linear_reg.score(x_test, y_test)\n",
        "print(f'Score do modelo: {score*100:.2f} %') # Score do modelo de regressão linear"
      ],
      "metadata": {
        "colab": {
          "base_uri": "https://localhost:8080/"
        },
        "id": "q6bwlJCFx-Tm",
        "outputId": "762de459-721f-4cc5-8757-e6816f6db75b"
      },
      "execution_count": 80,
      "outputs": [
        {
          "output_type": "stream",
          "name": "stdout",
          "text": [
            "Score do modelo: 67.23 %\n"
          ]
        }
      ]
    },
    {
      "cell_type": "code",
      "source": [
        "linear_reg.coef_ # Coeficientes B0, B1 e B2 da função de regressão"
      ],
      "metadata": {
        "colab": {
          "base_uri": "https://localhost:8080/"
        },
        "id": "kH2OrsCmyMwc",
        "outputId": "33051cdd-09dd-44e3-c12b-e1eade1dd52f"
      },
      "execution_count": 81,
      "outputs": [
        {
          "output_type": "execute_result",
          "data": {
            "text/plain": [
              "array([[-0.07321977,  0.57823324,  0.33653758]])"
            ]
          },
          "metadata": {},
          "execution_count": 81
        }
      ]
    },
    {
      "cell_type": "code",
      "source": [
        "linear_reg.intercept_ # Ponto do eixo das ordenadas que a reta toca quando x=0"
      ],
      "metadata": {
        "id": "DakYZplKyZGF",
        "outputId": "580e9ea0-4282-4c27-bcc8-9da392791039",
        "colab": {
          "base_uri": "https://localhost:8080/"
        }
      },
      "execution_count": 82,
      "outputs": [
        {
          "output_type": "execute_result",
          "data": {
            "text/plain": [
              "array([0.11489729])"
            ]
          },
          "metadata": {},
          "execution_count": 82
        }
      ]
    },
    {
      "cell_type": "code",
      "source": [
        "y_pred = linear_reg.predict(x_test) # Criação da variável de predição"
      ],
      "metadata": {
        "id": "UnYgX0rRxovU"
      },
      "execution_count": 83,
      "outputs": []
    },
    {
      "cell_type": "code",
      "source": [
        "plt.scatter(x_test.values[:,0], y_pred)\n",
        "plt.title(f'Predição x {x_test.columns[0]}')"
      ],
      "metadata": {
        "colab": {
          "base_uri": "https://localhost:8080/",
          "height": 469
        },
        "id": "DNdvZuWf7R4R",
        "outputId": "a3b653ee-3c9d-48e3-f445-1df3b0830247"
      },
      "execution_count": 84,
      "outputs": [
        {
          "output_type": "execute_result",
          "data": {
            "text/plain": [
              "Text(0.5, 1.0, 'Predição x Trust (Government Corruption)')"
            ]
          },
          "metadata": {},
          "execution_count": 84
        },
        {
          "output_type": "display_data",
          "data": {
            "text/plain": [
              "<Figure size 640x480 with 1 Axes>"
            ],
            "image/png": "[encoded data removed]"
          },
          "metadata": {}
        }
      ]
    },
    {
      "cell_type": "code",
      "source": [
        "plt.scatter(x_test.values[:,1], y_pred)\n",
        "plt.title(f'Predição x {x_test.columns[1]}')"
      ],
      "metadata": {
        "colab": {
          "base_uri": "https://localhost:8080/",
          "height": 469
        },
        "id": "nSiMI9Yduz7W",
        "outputId": "b22b4395-8eca-4e2a-be84-a5d5b633b81d"
      },
      "execution_count": 85,
      "outputs": [
        {
          "output_type": "execute_result",
          "data": {
            "text/plain": [
              "Text(0.5, 1.0, 'Predição x GPD Normalized')"
            ]
          },
          "metadata": {},
          "execution_count": 85
        },
        {
          "output_type": "display_data",
          "data": {
            "text/plain": [
              "<Figure size 640x480 with 1 Axes>"
            ],
            "image/png": "[encoded data removed]"
          },
          "metadata": {}
        }
      ]
    },
    {
      "cell_type": "code",
      "source": [
        "plt.scatter(x_test.values[:,2], y_pred)\n",
        "plt.title(f'Predição x {x_test.columns[2]}')"
      ],
      "metadata": {
        "id": "IyFn4tRpEW3n",
        "colab": {
          "base_uri": "https://localhost:8080/",
          "height": 469
        },
        "outputId": "f5422be3-802a-49d2-9cca-a679a8759530"
      },
      "execution_count": 86,
      "outputs": [
        {
          "output_type": "execute_result",
          "data": {
            "text/plain": [
              "Text(0.5, 1.0, 'Predição x Happiness Normalized')"
            ]
          },
          "metadata": {},
          "execution_count": 86
        },
        {
          "output_type": "display_data",
          "data": {
            "text/plain": [
              "<Figure size 640x480 with 1 Axes>"
            ],
            "image/png": "[encoded data removed]"
          },
          "metadata": {}
        }
      ]
    },
    {
      "cell_type": "code",
      "source": [
        "# Avaliando métricas do modelo\n",
        "\n",
        "print(' Métricas do modelo '.center(75, '='))\n",
        "print('\\nMAE: ', metrics.mean_absolute_error(y_test, y_pred))\n",
        "print('MSE: ', metrics.mean_squared_error(y_test, y_pred))\n",
        "print('RMSE: ', np.sqrt(metrics.mean_squared_error(y_test, y_pred)))\n",
        "print('R2_SCORE: ', metrics.r2_score(y_test, y_pred))"
      ],
      "metadata": {
        "colab": {
          "base_uri": "https://localhost:8080/"
        },
        "id": "PFh51HH7CVpG",
        "outputId": "2cee9364-798b-4fe5-972d-80bc1a6cf510"
      },
      "execution_count": 87,
      "outputs": [
        {
          "output_type": "stream",
          "name": "stdout",
          "text": [
            "============================ Métricas do modelo ===========================\n",
            "\n",
            "MAE:  0.10138982321071434\n",
            "MSE:  0.01610939474232807\n",
            "RMSE:  0.12692279047644703\n",
            "R2_SCORE:  0.6722651337724221\n"
          ]
        }
      ]
    },
    {
      "cell_type": "markdown",
      "source": [
        "##Análise de resíduos"
      ],
      "metadata": {
        "id": "1psje3pMQ77s"
      }
    },
    {
      "cell_type": "code",
      "source": [
        "import matplotlib.pyplot as plt\n",
        "import seaborn as sns\n",
        "from scipy.stats import shapiro, kstest\n",
        "from statsmodels.stats.diagnostic import het_breuschpagan, het_white\n",
        "from statsmodels.stats.stattools import durbin_watson\n",
        "\n",
        "\n",
        "# Resíduos\n",
        "residuals = y_test - y_pred\n",
        "\n",
        "\n",
        "# Histograma dos resíduos\n",
        "sns.histplot(residuals, kde=True)\n",
        "plt.xlabel(\"Resíduos\")\n",
        "plt.ylabel(\"Frequência\")\n",
        "plt.title(\"Histograma dos Resíduos\")\n",
        "plt.show()\n",
        "\n",
        "\n"
      ],
      "metadata": {
        "colab": {
          "base_uri": "https://localhost:8080/",
          "height": 472
        },
        "id": "XwXoSfczRyQb",
        "outputId": "3f72a842-5199-426b-8d11-e1d5d7912b68"
      },
      "execution_count": 88,
      "outputs": [
        {
          "output_type": "display_data",
          "data": {
            "text/plain": [
              "<Figure size 640x480 with 1 Axes>"
            ],
            "image/png": "[encoded data removed]"
          },
          "metadata": {}
        }
      ]
    }
  ]
}